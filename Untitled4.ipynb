{
 "cells": [
  {
   "cell_type": "markdown",
   "id": "c3844ec6",
   "metadata": {},
   "source": [
    "# Use of numpy\n",
    "## call it  by import ___ as___ \n"
   ]
  },
  {
   "cell_type": "code",
   "execution_count": null,
   "id": "85a0a6f9",
   "metadata": {},
   "outputs": [],
   "source": []
  },
  {
   "cell_type": "code",
   "execution_count": 1,
   "id": "1000678f",
   "metadata": {},
   "outputs": [],
   "source": [
    "import numpy as ty"
   ]
  },
  {
   "cell_type": "markdown",
   "id": "e46ea21d",
   "metadata": {},
   "source": [
    "# array fn is used to create vector\n",
    "## basically here we use ty. then hit tab to find all the fn in numpy library\n",
    "## shift+Tab will provide the structure of the perticularr  ffn and ddetails\n"
   ]
  },
  {
   "cell_type": "markdown",
   "id": "ed13e08c",
   "metadata": {},
   "source": [
    "# first we need to create a list\n"
   ]
  },
  {
   "cell_type": "code",
   "execution_count": 3,
   "id": "ab69125b",
   "metadata": {},
   "outputs": [],
   "source": [
    "lis=[1,2,3,4,-5,2,2,4,5,5,3,2]"
   ]
  },
  {
   "cell_type": "markdown",
   "id": "01c2910c",
   "metadata": {},
   "source": [
    "# now we create array or vector by using array fn\n",
    "`"
   ]
  },
  {
   "cell_type": "code",
   "execution_count": 6,
   "id": "093525ca",
   "metadata": {},
   "outputs": [],
   "source": [
    "arr=ty.array(lis)"
   ]
  },
  {
   "cell_type": "code",
   "execution_count": 7,
   "id": "f6aa6e13",
   "metadata": {},
   "outputs": [
    {
     "data": {
      "text/plain": [
       "array([1, 2, 3, 4, 5, 2, 2, 4, 5, 5, 3, 2])"
      ]
     },
     "execution_count": 7,
     "metadata": {},
     "output_type": "execute_result"
    }
   ],
   "source": [
    "arr"
   ]
  },
  {
   "cell_type": "code",
   "execution_count": 39,
   "id": "7fc70b29",
   "metadata": {},
   "outputs": [
    {
     "name": "stdout",
     "output_type": "stream",
     "text": [
      "[1, 2, 3, 4, 5, 2, 2, 4, 5, 5, 3, 2]\n"
     ]
    }
   ],
   "source": [
    "print(lis)"
   ]
  },
  {
   "cell_type": "code",
   "execution_count": 40,
   "id": "1a5df5c1",
   "metadata": {},
   "outputs": [
    {
     "name": "stdout",
     "output_type": "stream",
     "text": [
      "[1 2 3 4 5 2 2 4 5 5 3 2]\n"
     ]
    }
   ],
   "source": [
    "print(arr)"
   ]
  },
  {
   "cell_type": "code",
   "execution_count": 8,
   "id": "92a6b10f",
   "metadata": {},
   "outputs": [
    {
     "data": {
      "text/plain": [
       "True"
      ]
     },
     "execution_count": 8,
     "metadata": {},
     "output_type": "execute_result"
    }
   ],
   "source": [
    "arr.any()"
   ]
  },
  {
   "cell_type": "raw",
   "id": "4f7cd826",
   "metadata": {},
   "source": []
  },
  {
   "cell_type": "code",
   "execution_count": 15,
   "id": "dd47878b",
   "metadata": {},
   "outputs": [
    {
     "data": {
      "text/plain": [
       "1"
      ]
     },
     "execution_count": 15,
     "metadata": {},
     "output_type": "execute_result"
    }
   ],
   "source": [
    "arr.min()"
   ]
  },
  {
   "cell_type": "code",
   "execution_count": 22,
   "id": "221d2c06",
   "metadata": {},
   "outputs": [
    {
     "data": {
      "text/plain": [
       "(12,)"
      ]
     },
     "execution_count": 22,
     "metadata": {},
     "output_type": "execute_result"
    }
   ],
   "source": [
    "arr.shape"
   ]
  },
  {
   "cell_type": "code",
   "execution_count": 9,
   "id": "2c7411c5",
   "metadata": {},
   "outputs": [],
   "source": [
    "arr_7=arr*7\n"
   ]
  },
  {
   "cell_type": "raw",
   "id": "41071dbf",
   "metadata": {},
   "source": [
    "   "
   ]
  },
  {
   "cell_type": "code",
   "execution_count": 42,
   "id": "7105feb8",
   "metadata": {},
   "outputs": [],
   "source": [
    "arr1=arr.reshape(4,3)"
   ]
  },
  {
   "cell_type": "code",
   "execution_count": 43,
   "id": "98436010",
   "metadata": {},
   "outputs": [
    {
     "data": {
      "text/plain": [
       "array([[1, 2, 3],\n",
       "       [4, 5, 2],\n",
       "       [2, 4, 5],\n",
       "       [5, 3, 2]])"
      ]
     },
     "execution_count": 43,
     "metadata": {},
     "output_type": "execute_result"
    }
   ],
   "source": [
    " arr1"
   ]
  },
  {
   "cell_type": "code",
   "execution_count": 44,
   "id": "deb78e1b",
   "metadata": {},
   "outputs": [
    {
     "name": "stdout",
     "output_type": "stream",
     "text": [
      "[[1 2 3]\n",
      " [4 5 2]\n",
      " [2 4 5]\n",
      " [5 3 2]]\n"
     ]
    }
   ],
   "source": [
    "print(arr1)"
   ]
  },
  {
   "cell_type": "markdown",
   "id": "ef77205c",
   "metadata": {},
   "source": [
    "# indexing of two dim array is done bby describing two dim [_:_,_:_]\n",
    "# first indexing describes row and second is column \n",
    "# before : is the first index of row or column and after:  is until which position we want t continue indexing"
   ]
  },
  {
   "cell_type": "code",
   "execution_count": 21,
   "id": "744ec3c9",
   "metadata": {},
   "outputs": [
    {
     "data": {
      "text/plain": [
       "array([[1, 2, 3],\n",
       "       [4, 5, 2],\n",
       "       [2, 4, 5],\n",
       "       [5, 3, 2]])"
      ]
     },
     "execution_count": 21,
     "metadata": {},
     "output_type": "execute_result"
    }
   ],
   "source": [
    "arr1[:,:]"
   ]
  },
  {
   "cell_type": "code",
   "execution_count": 19,
   "id": "8c245ecb",
   "metadata": {},
   "outputs": [
    {
     "data": {
      "text/plain": [
       "array([[3],\n",
       "       [2],\n",
       "       [5]])"
      ]
     },
     "execution_count": 19,
     "metadata": {},
     "output_type": "execute_result"
    }
   ],
   "source": [
    "arr1[0:3,2:3]"
   ]
  },
  {
   "cell_type": "code",
   "execution_count": 20,
   "id": "2f957809",
   "metadata": {},
   "outputs": [
    {
     "data": {
      "text/plain": [
       "array([[1, 2, 3],\n",
       "       [4, 5, 2],\n",
       "       [2, 4, 5]])"
      ]
     },
     "execution_count": 20,
     "metadata": {},
     "output_type": "execute_result"
    }
   ],
   "source": [
    "arr1[0:3,:]"
   ]
  },
  {
   "cell_type": "markdown",
   "id": "1aab18bd",
   "metadata": {},
   "source": [
    "# arange is the fn that used as seq on r creating arithmetic progression"
   ]
  },
  {
   "cell_type": "code",
   "execution_count": 27,
   "id": "eeb7c937",
   "metadata": {},
   "outputs": [
    {
     "data": {
      "text/plain": [
       "array([ 2,  4,  6,  8, 10, 12, 14, 16, 18])"
      ]
     },
     "execution_count": 27,
     "metadata": {},
     "output_type": "execute_result"
    }
   ],
   "source": [
    "ty.arange(2,20,2)"
   ]
  },
  {
   "cell_type": "markdown",
   "id": "88b0fe04",
   "metadata": {},
   "source": [
    "# linspace is the fn that create arithmatic progression "
   ]
  },
  {
   "cell_type": "code",
   "execution_count": 24,
   "id": "f77bb23b",
   "metadata": {},
   "outputs": [
    {
     "data": {
      "text/plain": [
       "array([ 2.        ,  2.16326531,  2.32653061,  2.48979592,  2.65306122,\n",
       "        2.81632653,  2.97959184,  3.14285714,  3.30612245,  3.46938776,\n",
       "        3.63265306,  3.79591837,  3.95918367,  4.12244898,  4.28571429,\n",
       "        4.44897959,  4.6122449 ,  4.7755102 ,  4.93877551,  5.10204082,\n",
       "        5.26530612,  5.42857143,  5.59183673,  5.75510204,  5.91836735,\n",
       "        6.08163265,  6.24489796,  6.40816327,  6.57142857,  6.73469388,\n",
       "        6.89795918,  7.06122449,  7.2244898 ,  7.3877551 ,  7.55102041,\n",
       "        7.71428571,  7.87755102,  8.04081633,  8.20408163,  8.36734694,\n",
       "        8.53061224,  8.69387755,  8.85714286,  9.02040816,  9.18367347,\n",
       "        9.34693878,  9.51020408,  9.67346939,  9.83673469, 10.        ])"
      ]
     },
     "execution_count": 24,
     "metadata": {},
     "output_type": "execute_result"
    }
   ],
   "source": [
    "ty.linspace(2,10)"
   ]
  },
  {
   "cell_type": "code",
   "execution_count": 28,
   "id": "ea9e9acc",
   "metadata": {},
   "outputs": [],
   "source": [
    "arrr=ty.array(ty.arange(2,20,2))"
   ]
  },
  {
   "cell_type": "code",
   "execution_count": 29,
   "id": "2d841e3e",
   "metadata": {},
   "outputs": [
    {
     "data": {
      "text/plain": [
       "array([ 2,  4,  6,  8, 10, 12, 14, 16, 18])"
      ]
     },
     "execution_count": 29,
     "metadata": {},
     "output_type": "execute_result"
    }
   ],
   "source": [
    "arrr"
   ]
  },
  {
   "cell_type": "markdown",
   "id": "6e34dad9",
   "metadata": {},
   "source": [
    "# copy fn"
   ]
  },
  {
   "cell_type": "code",
   "execution_count": 53,
   "id": "99df25c2",
   "metadata": {},
   "outputs": [
    {
     "data": {
      "text/plain": [
       "array([  2,   4, 500, 500, 500,  12,  14,  16,  18])"
      ]
     },
     "execution_count": 53,
     "metadata": {},
     "output_type": "execute_result"
    }
   ],
   "source": [
    "arrr[2:5]=500\n",
    "arrr"
   ]
  },
  {
   "cell_type": "code",
   "execution_count": 54,
   "id": "88c90270",
   "metadata": {},
   "outputs": [],
   "source": [
    "arr1=arrr"
   ]
  },
  {
   "cell_type": "code",
   "execution_count": null,
   "id": "2c55a536",
   "metadata": {},
   "outputs": [],
   "source": []
  },
  {
   "cell_type": "code",
   "execution_count": 55,
   "id": "606f4c5e",
   "metadata": {},
   "outputs": [
    {
     "data": {
      "text/plain": [
       "array([  2,   4, 900, 900, 500,  12,  14,  16,  18])"
      ]
     },
     "execution_count": 55,
     "metadata": {},
     "output_type": "execute_result"
    }
   ],
   "source": [
    "arr1[2:4]=900\n",
    "arr1"
   ]
  },
  {
   "cell_type": "code",
   "execution_count": 45,
   "id": "a64078e8",
   "metadata": {},
   "outputs": [
    {
     "data": {
      "text/plain": [
       "array([  2,   4, 900, 900, 500,  12,  14,  16,  18])"
      ]
     },
     "execution_count": 45,
     "metadata": {},
     "output_type": "execute_result"
    }
   ],
   "source": [
    "arrr"
   ]
  },
  {
   "cell_type": "code",
   "execution_count": 46,
   "id": "87e9bc23",
   "metadata": {},
   "outputs": [],
   "source": [
    "arr1=arrr.copy() # this create a space for the new variable but will not change the old variable"
   ]
  },
  {
   "cell_type": "code",
   "execution_count": 47,
   "id": "5836eade",
   "metadata": {},
   "outputs": [
    {
     "data": {
      "text/plain": [
       "array([  2,   4, 900, 900, 500,  12,  14,  16,  18])"
      ]
     },
     "execution_count": 47,
     "metadata": {},
     "output_type": "execute_result"
    }
   ],
   "source": [
    "arr1"
   ]
  },
  {
   "cell_type": "code",
   "execution_count": 48,
   "id": "f1ff3534",
   "metadata": {},
   "outputs": [],
   "source": [
    "arr1[5:7]=400"
   ]
  },
  {
   "cell_type": "code",
   "execution_count": 49,
   "id": "a952e1df",
   "metadata": {},
   "outputs": [
    {
     "data": {
      "text/plain": [
       "array([  2,   4, 900, 900, 500, 400, 400,  16,  18])"
      ]
     },
     "execution_count": 49,
     "metadata": {},
     "output_type": "execute_result"
    }
   ],
   "source": [
    "arr1"
   ]
  },
  {
   "cell_type": "code",
   "execution_count": 50,
   "id": "d3631654",
   "metadata": {},
   "outputs": [
    {
     "data": {
      "text/plain": [
       "array([  2,   4, 900, 900, 500,  12,  14,  16,  18])"
      ]
     },
     "execution_count": 50,
     "metadata": {},
     "output_type": "execute_result"
    }
   ],
   "source": [
    "arrr"
   ]
  },
  {
   "cell_type": "code",
   "execution_count": 57,
   "id": "5feceb4d",
   "metadata": {},
   "outputs": [
    {
     "data": {
      "text/plain": [
       "array([False,  True,  True,  True,  True,  True,  True,  True,  True])"
      ]
     },
     "execution_count": 57,
     "metadata": {},
     "output_type": "execute_result"
    }
   ],
   "source": [
    "arrr>3"
   ]
  },
  {
   "cell_type": "code",
   "execution_count": 61,
   "id": "84bde59f",
   "metadata": {},
   "outputs": [
    {
     "data": {
      "text/plain": [
       "array([900, 900])"
      ]
     },
     "execution_count": 61,
     "metadata": {},
     "output_type": "execute_result"
    }
   ],
   "source": [
    "arrr[arrr>500]"
   ]
  },
  {
   "cell_type": "code",
   "execution_count": 68,
   "id": "ab5a4c7c",
   "metadata": {},
   "outputs": [
    {
     "data": {
      "text/plain": [
       "array([[ 2,  3],\n",
       "       [ 4,  5],\n",
       "       [ 6,  7],\n",
       "       [ 8,  9],\n",
       "       [10, 11]])"
      ]
     },
     "execution_count": 68,
     "metadata": {},
     "output_type": "execute_result"
    }
   ],
   "source": [
    "ty.arange(2,12).reshape(5,2)"
   ]
  },
  {
   "cell_type": "code",
   "execution_count": 4,
   "id": "e44754d1",
   "metadata": {},
   "outputs": [
    {
     "data": {
      "text/plain": [
       "array([1, 2, 3, 4, 5, 2, 2, 4, 5, 5, 3, 2])"
      ]
     },
     "execution_count": 4,
     "metadata": {},
     "output_type": "execute_result"
    }
   ],
   "source": [
    "ty.abs(lis)"
   ]
  },
  {
   "cell_type": "code",
   "execution_count": 9,
   "id": "9de53136",
   "metadata": {},
   "outputs": [
    {
     "data": {
      "text/plain": [
       "array([3, 3, 3, 4, 5, 6])"
      ]
     },
     "execution_count": 9,
     "metadata": {},
     "output_type": "execute_result"
    }
   ],
   "source": [
    "ty.append([3,3,3],[4,5,6])"
   ]
  },
  {
   "cell_type": "code",
   "execution_count": 19,
   "id": "29f66f16",
   "metadata": {},
   "outputs": [
    {
     "data": {
      "text/plain": [
       "array([3, 3, 3, 4, 5, 6])"
      ]
     },
     "execution_count": 19,
     "metadata": {},
     "output_type": "execute_result"
    }
   ],
   "source": [
    "ty.append([3,3,3],[4,5,6],axis=0)"
   ]
  },
  {
   "cell_type": "code",
   "execution_count": 24,
   "id": "d3cbb4a5",
   "metadata": {},
   "outputs": [
    {
     "data": {
      "text/plain": [
       "array([[3, 3, 3],\n",
       "       [4, 5, 6]])"
      ]
     },
     "execution_count": 24,
     "metadata": {},
     "output_type": "execute_result"
    }
   ],
   "source": [
    "ty.append([[3,3,3]],[[4,5,6]],axis=0)"
   ]
  },
  {
   "cell_type": "code",
   "execution_count": null,
   "id": "9ad7bc7b",
   "metadata": {},
   "outputs": [],
   "source": []
  },
  {
   "cell_type": "code",
   "execution_count": 23,
   "id": "c75ca73f",
   "metadata": {},
   "outputs": [
    {
     "data": {
      "text/plain": [
       "array([[3, 3, 3, 4, 5, 6]])"
      ]
     },
     "execution_count": 23,
     "metadata": {},
     "output_type": "execute_result"
    }
   ],
   "source": [
    "ty.append([[3,3,3]],[[4,5,6]],axis=1)"
   ]
  },
  {
   "cell_type": "code",
   "execution_count": 13,
   "id": "b66fbe61",
   "metadata": {},
   "outputs": [
    {
     "data": {
      "text/plain": [
       "array([[3, 3],\n",
       "       [4, 5],\n",
       "       [5, 5],\n",
       "       [7, 8]])"
      ]
     },
     "execution_count": 13,
     "metadata": {},
     "output_type": "execute_result"
    }
   ],
   "source": [
    "ty.append([[3,3],[4,5]],[[5,5],[7,8]],axis=0)"
   ]
  },
  {
   "cell_type": "code",
   "execution_count": 14,
   "id": "5a22eaaa",
   "metadata": {},
   "outputs": [
    {
     "data": {
      "text/plain": [
       "array([3, 3, 4, 5, 5, 5, 7, 8])"
      ]
     },
     "execution_count": 14,
     "metadata": {},
     "output_type": "execute_result"
    }
   ],
   "source": [
    "ty.append([[3,3],[4,5]],[[5,5],[7,8]])"
   ]
  },
  {
   "cell_type": "code",
   "execution_count": 10,
   "id": "98040bae",
   "metadata": {},
   "outputs": [
    {
     "data": {
      "text/plain": [
       "[[5, 5], [7, 8]]"
      ]
     },
     "execution_count": 10,
     "metadata": {},
     "output_type": "execute_result"
    }
   ],
   "source": [
    "[[5,5],[7,8]]"
   ]
  },
  {
   "cell_type": "code",
   "execution_count": 25,
   "id": "8bd92d08",
   "metadata": {},
   "outputs": [
    {
     "data": {
      "text/plain": [
       "array([1., 1., 1., 1., 1., 1., 1., 1.])"
      ]
     },
     "execution_count": 25,
     "metadata": {},
     "output_type": "execute_result"
    }
   ],
   "source": [
    "ty.ones(8) #default float\n"
   ]
  },
  {
   "cell_type": "code",
   "execution_count": 26,
   "id": "79d54b5f",
   "metadata": {},
   "outputs": [
    {
     "data": {
      "text/plain": [
       "array([1, 1, 1, 1, 1, 1, 1, 1])"
      ]
     },
     "execution_count": 26,
     "metadata": {},
     "output_type": "execute_result"
    }
   ],
   "source": [
    "ty.ones(8,dtype=int)# now integer"
   ]
  },
  {
   "cell_type": "code",
   "execution_count": 33,
   "id": "5adde36e",
   "metadata": {},
   "outputs": [
    {
     "data": {
      "text/plain": [
       "array([[[1., 1., 1., 1.],\n",
       "        [1., 1., 1., 1.],\n",
       "        [1., 1., 1., 1.]],\n",
       "\n",
       "       [[1., 1., 1., 1.],\n",
       "        [1., 1., 1., 1.],\n",
       "        [1., 1., 1., 1.]],\n",
       "\n",
       "       [[1., 1., 1., 1.],\n",
       "        [1., 1., 1., 1.],\n",
       "        [1., 1., 1., 1.]],\n",
       "\n",
       "       [[1., 1., 1., 1.],\n",
       "        [1., 1., 1., 1.],\n",
       "        [1., 1., 1., 1.]],\n",
       "\n",
       "       [[1., 1., 1., 1.],\n",
       "        [1., 1., 1., 1.],\n",
       "        [1., 1., 1., 1.]],\n",
       "\n",
       "       [[1., 1., 1., 1.],\n",
       "        [1., 1., 1., 1.],\n",
       "        [1., 1., 1., 1.]],\n",
       "\n",
       "       [[1., 1., 1., 1.],\n",
       "        [1., 1., 1., 1.],\n",
       "        [1., 1., 1., 1.]],\n",
       "\n",
       "       [[1., 1., 1., 1.],\n",
       "        [1., 1., 1., 1.],\n",
       "        [1., 1., 1., 1.]]])"
      ]
     },
     "execution_count": 33,
     "metadata": {},
     "output_type": "execute_result"
    }
   ],
   "source": [
    "ty.ones((8,3,4   # 3 dims array\n",
    "        )) "
   ]
  },
  {
   "cell_type": "markdown",
   "id": "d258c955",
   "metadata": {},
   "source": [
    "# Random array"
   ]
  },
  {
   "cell_type": "code",
   "execution_count": null,
   "id": "f8ba6f2e",
   "metadata": {},
   "outputs": [],
   "source": []
  },
  {
   "cell_type": "code",
   "execution_count": null,
   "id": "661ee5d3",
   "metadata": {},
   "outputs": [],
   "source": []
  },
  {
   "cell_type": "code",
   "execution_count": 34,
   "id": "81fa34e6",
   "metadata": {},
   "outputs": [
    {
     "data": {
      "text/plain": [
       "array([0.12447626, 0.55149078, 0.56318389, 0.37725168, 0.8460747 ,\n",
       "       0.03250822, 0.51355561])"
      ]
     },
     "execution_count": 34,
     "metadata": {},
     "output_type": "execute_result"
    }
   ],
   "source": [
    "ty.random.rand(7)"
   ]
  },
  {
   "cell_type": "code",
   "execution_count": 35,
   "id": "81a827d1",
   "metadata": {},
   "outputs": [
    {
     "data": {
      "text/plain": [
       "array([[0.60358257, 0.2097755 ],\n",
       "       [0.46310588, 0.02355904],\n",
       "       [0.30639784, 0.32887292],\n",
       "       [0.46061313, 0.44978314],\n",
       "       [0.99023602, 0.84711282],\n",
       "       [0.8142809 , 0.97098509],\n",
       "       [0.04661505, 0.26608659]])"
      ]
     },
     "execution_count": 35,
     "metadata": {},
     "output_type": "execute_result"
    }
   ],
   "source": [
    "ty.random.rand(7,2)"
   ]
  },
  {
   "cell_type": "code",
   "execution_count": 38,
   "id": "e47d7f67",
   "metadata": {},
   "outputs": [
    {
     "data": {
      "text/plain": [
       "array([[ 0.2531801 , -0.75360985],\n",
       "       [ 0.21511179,  0.31801866],\n",
       "       [-0.02091655,  1.91227099],\n",
       "       [ 0.30732243,  0.04956561],\n",
       "       [-1.13827056, -0.03016125],\n",
       "       [-1.10659618,  0.98796861],\n",
       "       [-0.18094401, -0.86353928]])"
      ]
     },
     "execution_count": 38,
     "metadata": {},
     "output_type": "execute_result"
    }
   ],
   "source": [
    "ty.random.randn(7,2)"
   ]
  },
  {
   "cell_type": "code",
   "execution_count": 40,
   "id": "317de56d",
   "metadata": {},
   "outputs": [
    {
     "data": {
      "text/plain": [
       "array([71, 57, 88, 78, 49, 58, 60, 29, 68])"
      ]
     },
     "execution_count": 40,
     "metadata": {},
     "output_type": "execute_result"
    }
   ],
   "source": [
    "ty.random.randint(7,100,9)"
   ]
  },
  {
   "cell_type": "code",
   "execution_count": null,
   "id": "d850fd1e",
   "metadata": {},
   "outputs": [],
   "source": []
  },
  {
   "cell_type": "code",
   "execution_count": null,
   "id": "5958cc45",
   "metadata": {},
   "outputs": [],
   "source": []
  },
  {
   "cell_type": "code",
   "execution_count": null,
   "id": "3a96e125",
   "metadata": {},
   "outputs": [],
   "source": []
  },
  {
   "cell_type": "code",
   "execution_count": null,
   "id": "9888148c",
   "metadata": {},
   "outputs": [],
   "source": []
  },
  {
   "cell_type": "code",
   "execution_count": null,
   "id": "75d4a62f",
   "metadata": {},
   "outputs": [],
   "source": []
  },
  {
   "cell_type": "code",
   "execution_count": null,
   "id": "d7fbef90",
   "metadata": {},
   "outputs": [],
   "source": []
  },
  {
   "cell_type": "code",
   "execution_count": null,
   "id": "eb1ef54f",
   "metadata": {},
   "outputs": [],
   "source": []
  },
  {
   "cell_type": "code",
   "execution_count": null,
   "id": "af0c46be",
   "metadata": {},
   "outputs": [],
   "source": []
  },
  {
   "cell_type": "code",
   "execution_count": null,
   "id": "91bbe602",
   "metadata": {},
   "outputs": [],
   "source": []
  },
  {
   "cell_type": "code",
   "execution_count": null,
   "id": "4aaa31e9",
   "metadata": {},
   "outputs": [],
   "source": []
  }
 ],
 "metadata": {
  "kernelspec": {
   "display_name": "Python 3 (ipykernel)",
   "language": "python",
   "name": "python3"
  },
  "language_info": {
   "codemirror_mode": {
    "name": "ipython",
    "version": 3
   },
   "file_extension": ".py",
   "mimetype": "text/x-python",
   "name": "python",
   "nbconvert_exporter": "python",
   "pygments_lexer": "ipython3",
   "version": "3.9.12"
  }
 },
 "nbformat": 4,
 "nbformat_minor": 5
}
