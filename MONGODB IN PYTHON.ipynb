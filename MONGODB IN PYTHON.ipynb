{
 "cells": [
  {
   "cell_type": "code",
   "execution_count": 1,
   "id": "c2e43989",
   "metadata": {},
   "outputs": [
    {
     "name": "stdout",
     "output_type": "stream",
     "text": [
      "Requirement already satisfied: pymongo in c:\\users\\91894\\anaconda3\\lib\\site-packages (4.6.2)\n",
      "Requirement already satisfied: dnspython<3.0.0,>=1.16.0 in c:\\users\\91894\\anaconda3\\lib\\site-packages (from pymongo) (2.6.1)\n",
      "Note: you may need to restart the kernel to use updated packages.\n"
     ]
    }
   ],
   "source": [
    "pip install pymongo\n"
   ]
  },
  {
   "cell_type": "markdown",
   "id": "f4574b46",
   "metadata": {},
   "source": [
    "# Creating a mongo database"
   ]
  },
  {
   "cell_type": "code",
   "execution_count": 2,
   "id": "d10b2191",
   "metadata": {},
   "outputs": [],
   "source": [
    "#Create a database called \"mydatabase\":\n",
    "\n",
    "import pymongo\n",
    "\n",
    "myclient = pymongo.MongoClient(\"mongodb://localhost:27017/\") #creating a MongoClient object, then specify a connection URL with the correct ip address\n",
    "\n",
    "mydb = myclient[\"mydatabase\"]# name the database \"mydatabase\"\n"
   ]
  },
  {
   "cell_type": "markdown",
   "id": "4d10a416",
   "metadata": {},
   "source": [
    "## In MongoDB, a database is not created until it gets content!"
   ]
  },
  {
   "cell_type": "code",
   "execution_count": null,
   "id": "8f3cfede",
   "metadata": {},
   "outputs": [],
   "source": []
  },
  {
   "cell_type": "markdown",
   "id": "1ab8ed60",
   "metadata": {},
   "source": [
    "## A collection in MongoDB is the same as a table in SQL databases."
   ]
  },
  {
   "cell_type": "markdown",
   "id": "71b22b19",
   "metadata": {},
   "source": [
    "# Creating a Collection\n",
    "To create a collection in MongoDB, use database object and specify the name of the collection you want to create.\n",
    "\n",
    "MongoDB will create the collection if it does not exist."
   ]
  },
  {
   "cell_type": "code",
   "execution_count": 4,
   "id": "fd658cd1",
   "metadata": {},
   "outputs": [],
   "source": [
    "#Create a collection called \"customers\":\n",
    "\n",
    "import pymongo\n",
    "\n",
    "myclient = pymongo.MongoClient(\"mongodb://localhost:27017/\")\n",
    "mydb = myclient[\"mydatabase\"]\n",
    "\n",
    "mycol = mydb[\"customers\"]\n",
    "#In MongoDB, a collection is not created until it gets content!\n"
   ]
  },
  {
   "cell_type": "markdown",
   "id": "ae2ff032",
   "metadata": {},
   "source": [
    "## A document in MongoDB is the same as a record in SQL databases."
   ]
  },
  {
   "cell_type": "markdown",
   "id": "91af1171",
   "metadata": {},
   "source": [
    "# Insert Into Collection\n",
    "To insert a record, or document as it is called in MongoDB, into a collection, we use the insert_one() method."
   ]
  },
  {
   "cell_type": "code",
   "execution_count": 11,
   "id": "206de6b9",
   "metadata": {},
   "outputs": [],
   "source": [
    "#Insert a record in the \"customers\" collection:\n",
    "\n",
    "import pymongo\n",
    "\n",
    "myclient = pymongo.MongoClient(\"mongodb://localhost:27017\")\n",
    "mydb = myclient[\"mydatabase\"]\n",
    "mycol = mydb[\"customers\"]\n",
    "\n",
    "mydict = { \"name\": \"John\", \"address\": \"Highway 37\" }\n",
    "\n"
   ]
  },
  {
   "cell_type": "code",
   "execution_count": 12,
   "id": "148e956c",
   "metadata": {},
   "outputs": [
    {
     "name": "stdout",
     "output_type": "stream",
     "text": [
      "InsertOneResult(ObjectId('65f889cc8f45bd0145fdd377'), acknowledged=True)\n"
     ]
    }
   ],
   "source": [
    "x = mycol.insert_one(mydict)\n",
    "print(x) #note : if you dont have mongo db install in your pc ,then the code will show you an error\n"
   ]
  },
  {
   "cell_type": "markdown",
   "id": "833f66fa",
   "metadata": {},
   "source": [
    "The insert_one() method returns a InsertOneResult object, which has a property, inserted_id, that holds the id of the inserted document."
   ]
  },
  {
   "cell_type": "code",
   "execution_count": 13,
   "id": "913de6b7",
   "metadata": {},
   "outputs": [
    {
     "name": "stdout",
     "output_type": "stream",
     "text": [
      "65f889cc8f45bd0145fdd377\n"
     ]
    }
   ],
   "source": [
    "print(x.inserted_id)"
   ]
  },
  {
   "cell_type": "markdown",
   "id": "f6fe0d7d",
   "metadata": {},
   "source": [
    "# Insert Multiple Documents\n",
    "To insert multiple documents into a collection in MongoDB, we use the insert_many() method.\n",
    "\n",
    "The first parameter of the insert_many() method is a list containing dictionaries with the data you want to insert:"
   ]
  },
  {
   "cell_type": "code",
   "execution_count": 50,
   "id": "ac13b1ff",
   "metadata": {},
   "outputs": [
    {
     "name": "stdout",
     "output_type": "stream",
     "text": [
      "[ObjectId('65f899518f45bd0145fdd38a'), ObjectId('65f899518f45bd0145fdd38b'), ObjectId('65f899518f45bd0145fdd38c'), ObjectId('65f899518f45bd0145fdd38d'), ObjectId('65f899518f45bd0145fdd38e'), ObjectId('65f899518f45bd0145fdd38f'), ObjectId('65f899518f45bd0145fdd390'), ObjectId('65f899518f45bd0145fdd391'), ObjectId('65f899518f45bd0145fdd392'), ObjectId('65f899518f45bd0145fdd393'), ObjectId('65f899518f45bd0145fdd394'), ObjectId('65f899518f45bd0145fdd395')]\n"
     ]
    }
   ],
   "source": [
    "import pymongo\n",
    "\n",
    "myclient = pymongo.MongoClient(\"mongodb://localhost:27017/\")\n",
    "mydb = myclient[\"mydatabase\"]\n",
    "mycol = mydb[\"customers\"]\n",
    "\n",
    "mylist = [\n",
    "  { \"name\": \"Amy\", \"address\": \"Apple st 652\"},\n",
    "  { \"name\": \"Hannah\", \"address\": \"Mountain 21\"},\n",
    "  { \"name\": \"Michael\", \"address\": \"Valley 345\"},\n",
    "  { \"name\": \"Sandy\", \"address\": \"Ocean blvd 2\"},\n",
    "  { \"name\": \"Betty\", \"address\": \"Green Grass 1\"},\n",
    "  { \"name\": \"Richard\", \"address\": \"Sky st 331\"},\n",
    "  { \"name\": \"Susan\", \"address\": \"One way 98\"},\n",
    "  { \"name\": \"Vicky\", \"address\": \"Yellow Garden 2\"},\n",
    "  { \"name\": \"Ben\", \"address\": \"Park Lane 38\"},\n",
    "  { \"name\": \"William\", \"address\": \"Central st 954\"},\n",
    "  { \"name\": \"Chuck\", \"address\": \"Main Road 989\"},\n",
    "  { \"name\": \"Viola\", \"address\": \"Sideway 1633\"}\n",
    "]\n",
    "\n",
    "y= mycol.insert_many(mylist)\n",
    "\n",
    "#print list of the _id values of the inserted documents:\n",
    "\n",
    "print(y.inserted_ids)\n"
   ]
  },
  {
   "cell_type": "code",
   "execution_count": 16,
   "id": "95d6e4a0",
   "metadata": {},
   "outputs": [
    {
     "name": "stdout",
     "output_type": "stream",
     "text": [
      "InsertManyResult([ObjectId('65f889eb8f45bd0145fdd379'), ObjectId('65f889eb8f45bd0145fdd37a'), ObjectId('65f889eb8f45bd0145fdd37b'), ObjectId('65f889eb8f45bd0145fdd37c'), ObjectId('65f889eb8f45bd0145fdd37d'), ObjectId('65f889eb8f45bd0145fdd37e'), ObjectId('65f889eb8f45bd0145fdd37f'), ObjectId('65f889eb8f45bd0145fdd380'), ObjectId('65f889eb8f45bd0145fdd381'), ObjectId('65f889eb8f45bd0145fdd382'), ObjectId('65f889eb8f45bd0145fdd383'), ObjectId('65f889eb8f45bd0145fdd384')], acknowledged=True)\n"
     ]
    }
   ],
   "source": [
    "print(y)"
   ]
  },
  {
   "cell_type": "markdown",
   "id": "6dc8f62d",
   "metadata": {},
   "source": [
    "# Check if Database Exists"
   ]
  },
  {
   "cell_type": "code",
   "execution_count": 17,
   "id": "1101e5c6",
   "metadata": {},
   "outputs": [
    {
     "name": "stdout",
     "output_type": "stream",
     "text": [
      "['admin', 'config', 'local', 'mydatabase', 'myddb']\n"
     ]
    }
   ],
   "source": [
    "#Return a list of your system's databases:\n",
    "\n",
    "print(myclient.list_database_names())"
   ]
  },
  {
   "cell_type": "code",
   "execution_count": 18,
   "id": "748a9fda",
   "metadata": {},
   "outputs": [
    {
     "name": "stdout",
     "output_type": "stream",
     "text": [
      "Database(MongoClient(host=['localhost:27017'], document_class=dict, tz_aware=False, connect=True), 'mydatabase')\n"
     ]
    }
   ],
   "source": []
  },
  {
   "cell_type": "markdown",
   "id": "bd24e5a5",
   "metadata": {},
   "source": [
    "# Check if Collection Exists"
   ]
  },
  {
   "cell_type": "code",
   "execution_count": 19,
   "id": "ca6c4f37",
   "metadata": {},
   "outputs": [
    {
     "name": "stdout",
     "output_type": "stream",
     "text": [
      "['customers']\n"
     ]
    }
   ],
   "source": [
    "#Return a list of all collections in your database:\n",
    "\n",
    "print(mydb.list_collection_names())\n"
   ]
  },
  {
   "cell_type": "markdown",
   "id": "63e08601",
   "metadata": {},
   "source": [
    "In MongoDB we use the find() and find_one() methods to find data in a collection.\n",
    "\n",
    "Just like the SELECT statement is used to find data in a table in a MySQL database.\n"
   ]
  },
  {
   "cell_type": "markdown",
   "id": "09187363",
   "metadata": {},
   "source": [
    "# Find One\n",
    "To select data from a collection in MongoDB, we can use the find_one() method.\n",
    "\n",
    "The find_one() method returns the first occurrence in the selection."
   ]
  },
  {
   "cell_type": "code",
   "execution_count": 25,
   "id": "23bca25c",
   "metadata": {},
   "outputs": [
    {
     "data": {
      "text/plain": [
       "{'_id': ObjectId('65f881678f45bd0145fdd368'),\n",
       " 'name': 'John',\n",
       " 'address': 'Highway 37'}"
      ]
     },
     "execution_count": 25,
     "metadata": {},
     "output_type": "execute_result"
    }
   ],
   "source": [
    "mycol.find_one()"
   ]
  },
  {
   "cell_type": "markdown",
   "id": "2bccba58",
   "metadata": {},
   "source": [
    "# Find All\n",
    "To select data from a table in MongoDB, we can also use the find() method.\n",
    "\n",
    "The find() method returns all occurrences in the selection.\n",
    "\n"
   ]
  },
  {
   "cell_type": "code",
   "execution_count": 26,
   "id": "ce2a6cb2",
   "metadata": {},
   "outputs": [
    {
     "name": "stdout",
     "output_type": "stream",
     "text": [
      "{'_id': ObjectId('65f881678f45bd0145fdd368'), 'name': 'John', 'address': 'Highway 37'}\n",
      "{'_id': ObjectId('65f8891e8f45bd0145fdd36a'), 'name': 'Amy', 'address': 'Apple st 652'}\n",
      "{'_id': ObjectId('65f8891e8f45bd0145fdd36b'), 'name': 'Hannah', 'address': 'Mountain 21'}\n",
      "{'_id': ObjectId('65f8891e8f45bd0145fdd36c'), 'name': 'Michael', 'address': 'Valley 345'}\n",
      "{'_id': ObjectId('65f8891e8f45bd0145fdd36d'), 'name': 'Sandy', 'address': 'Ocean blvd 2'}\n",
      "{'_id': ObjectId('65f8891e8f45bd0145fdd36e'), 'name': 'Betty', 'address': 'Green Grass 1'}\n",
      "{'_id': ObjectId('65f8891e8f45bd0145fdd36f'), 'name': 'Richard', 'address': 'Sky st 331'}\n",
      "{'_id': ObjectId('65f8891e8f45bd0145fdd370'), 'name': 'Susan', 'address': 'One way 98'}\n",
      "{'_id': ObjectId('65f8891e8f45bd0145fdd371'), 'name': 'Vicky', 'address': 'Yellow Garden 2'}\n",
      "{'_id': ObjectId('65f8891e8f45bd0145fdd372'), 'name': 'Ben', 'address': 'Park Lane 38'}\n",
      "{'_id': ObjectId('65f8891e8f45bd0145fdd373'), 'name': 'William', 'address': 'Central st 954'}\n",
      "{'_id': ObjectId('65f8891e8f45bd0145fdd374'), 'name': 'Chuck', 'address': 'Main Road 989'}\n",
      "{'_id': ObjectId('65f8891e8f45bd0145fdd375'), 'name': 'Viola', 'address': 'Sideway 1633'}\n",
      "{'_id': ObjectId('65f889cc8f45bd0145fdd377'), 'name': 'John', 'address': 'Highway 37'}\n",
      "{'_id': ObjectId('65f889eb8f45bd0145fdd379'), 'name': 'Amy', 'address': 'Apple st 652'}\n",
      "{'_id': ObjectId('65f889eb8f45bd0145fdd37a'), 'name': 'Hannah', 'address': 'Mountain 21'}\n",
      "{'_id': ObjectId('65f889eb8f45bd0145fdd37b'), 'name': 'Michael', 'address': 'Valley 345'}\n",
      "{'_id': ObjectId('65f889eb8f45bd0145fdd37c'), 'name': 'Sandy', 'address': 'Ocean blvd 2'}\n",
      "{'_id': ObjectId('65f889eb8f45bd0145fdd37d'), 'name': 'Betty', 'address': 'Green Grass 1'}\n",
      "{'_id': ObjectId('65f889eb8f45bd0145fdd37e'), 'name': 'Richard', 'address': 'Sky st 331'}\n",
      "{'_id': ObjectId('65f889eb8f45bd0145fdd37f'), 'name': 'Susan', 'address': 'One way 98'}\n",
      "{'_id': ObjectId('65f889eb8f45bd0145fdd380'), 'name': 'Vicky', 'address': 'Yellow Garden 2'}\n",
      "{'_id': ObjectId('65f889eb8f45bd0145fdd381'), 'name': 'Ben', 'address': 'Park Lane 38'}\n",
      "{'_id': ObjectId('65f889eb8f45bd0145fdd382'), 'name': 'William', 'address': 'Central st 954'}\n",
      "{'_id': ObjectId('65f889eb8f45bd0145fdd383'), 'name': 'Chuck', 'address': 'Main Road 989'}\n",
      "{'_id': ObjectId('65f889eb8f45bd0145fdd384'), 'name': 'Viola', 'address': 'Sideway 1633'}\n"
     ]
    }
   ],
   "source": [
    "for x in mycol.find():\n",
    "  print(x)\n"
   ]
  },
  {
   "cell_type": "markdown",
   "id": "47e36bee",
   "metadata": {},
   "source": [
    "# Return Only Some Fields\n",
    "The second parameter of the find() method is an object describing which fields to include in the result.\n",
    "\n",
    "This parameter is optional, and if omitted, all fields will be included in the result."
   ]
  },
  {
   "cell_type": "code",
   "execution_count": 27,
   "id": "900368dc",
   "metadata": {},
   "outputs": [
    {
     "name": "stdout",
     "output_type": "stream",
     "text": [
      "{'name': 'John', 'address': 'Highway 37'}\n",
      "{'name': 'Amy', 'address': 'Apple st 652'}\n",
      "{'name': 'Hannah', 'address': 'Mountain 21'}\n",
      "{'name': 'Michael', 'address': 'Valley 345'}\n",
      "{'name': 'Sandy', 'address': 'Ocean blvd 2'}\n",
      "{'name': 'Betty', 'address': 'Green Grass 1'}\n",
      "{'name': 'Richard', 'address': 'Sky st 331'}\n",
      "{'name': 'Susan', 'address': 'One way 98'}\n",
      "{'name': 'Vicky', 'address': 'Yellow Garden 2'}\n",
      "{'name': 'Ben', 'address': 'Park Lane 38'}\n",
      "{'name': 'William', 'address': 'Central st 954'}\n",
      "{'name': 'Chuck', 'address': 'Main Road 989'}\n",
      "{'name': 'Viola', 'address': 'Sideway 1633'}\n",
      "{'name': 'John', 'address': 'Highway 37'}\n",
      "{'name': 'Amy', 'address': 'Apple st 652'}\n",
      "{'name': 'Hannah', 'address': 'Mountain 21'}\n",
      "{'name': 'Michael', 'address': 'Valley 345'}\n",
      "{'name': 'Sandy', 'address': 'Ocean blvd 2'}\n",
      "{'name': 'Betty', 'address': 'Green Grass 1'}\n",
      "{'name': 'Richard', 'address': 'Sky st 331'}\n",
      "{'name': 'Susan', 'address': 'One way 98'}\n",
      "{'name': 'Vicky', 'address': 'Yellow Garden 2'}\n",
      "{'name': 'Ben', 'address': 'Park Lane 38'}\n",
      "{'name': 'William', 'address': 'Central st 954'}\n",
      "{'name': 'Chuck', 'address': 'Main Road 989'}\n",
      "{'name': 'Viola', 'address': 'Sideway 1633'}\n"
     ]
    }
   ],
   "source": [
    "#Return only the names and addresses, not the _ids\n",
    "for x in mycol.find({},{ \"_id\": 0, \"name\": 1, \"address\": 1 }):\n",
    "  print(x)"
   ]
  },
  {
   "cell_type": "code",
   "execution_count": 31,
   "id": "e5da5fce",
   "metadata": {},
   "outputs": [
    {
     "data": {
      "text/plain": [
       "<pymongo.cursor.Cursor at 0x282070013d0>"
      ]
     },
     "execution_count": 31,
     "metadata": {},
     "output_type": "execute_result"
    }
   ],
   "source": [
    "mycol.find({},{ \"_id\": 0, \"name\": 1, \"address\": 1 })"
   ]
  },
  {
   "cell_type": "code",
   "execution_count": 28,
   "id": "df62827b",
   "metadata": {},
   "outputs": [
    {
     "name": "stdout",
     "output_type": "stream",
     "text": [
      "{'_id': ObjectId('65f881678f45bd0145fdd368'), 'name': 'John'}\n",
      "{'_id': ObjectId('65f8891e8f45bd0145fdd36a'), 'name': 'Amy'}\n",
      "{'_id': ObjectId('65f8891e8f45bd0145fdd36b'), 'name': 'Hannah'}\n",
      "{'_id': ObjectId('65f8891e8f45bd0145fdd36c'), 'name': 'Michael'}\n",
      "{'_id': ObjectId('65f8891e8f45bd0145fdd36d'), 'name': 'Sandy'}\n",
      "{'_id': ObjectId('65f8891e8f45bd0145fdd36e'), 'name': 'Betty'}\n",
      "{'_id': ObjectId('65f8891e8f45bd0145fdd36f'), 'name': 'Richard'}\n",
      "{'_id': ObjectId('65f8891e8f45bd0145fdd370'), 'name': 'Susan'}\n",
      "{'_id': ObjectId('65f8891e8f45bd0145fdd371'), 'name': 'Vicky'}\n",
      "{'_id': ObjectId('65f8891e8f45bd0145fdd372'), 'name': 'Ben'}\n",
      "{'_id': ObjectId('65f8891e8f45bd0145fdd373'), 'name': 'William'}\n",
      "{'_id': ObjectId('65f8891e8f45bd0145fdd374'), 'name': 'Chuck'}\n",
      "{'_id': ObjectId('65f8891e8f45bd0145fdd375'), 'name': 'Viola'}\n",
      "{'_id': ObjectId('65f889cc8f45bd0145fdd377'), 'name': 'John'}\n",
      "{'_id': ObjectId('65f889eb8f45bd0145fdd379'), 'name': 'Amy'}\n",
      "{'_id': ObjectId('65f889eb8f45bd0145fdd37a'), 'name': 'Hannah'}\n",
      "{'_id': ObjectId('65f889eb8f45bd0145fdd37b'), 'name': 'Michael'}\n",
      "{'_id': ObjectId('65f889eb8f45bd0145fdd37c'), 'name': 'Sandy'}\n",
      "{'_id': ObjectId('65f889eb8f45bd0145fdd37d'), 'name': 'Betty'}\n",
      "{'_id': ObjectId('65f889eb8f45bd0145fdd37e'), 'name': 'Richard'}\n",
      "{'_id': ObjectId('65f889eb8f45bd0145fdd37f'), 'name': 'Susan'}\n",
      "{'_id': ObjectId('65f889eb8f45bd0145fdd380'), 'name': 'Vicky'}\n",
      "{'_id': ObjectId('65f889eb8f45bd0145fdd381'), 'name': 'Ben'}\n",
      "{'_id': ObjectId('65f889eb8f45bd0145fdd382'), 'name': 'William'}\n",
      "{'_id': ObjectId('65f889eb8f45bd0145fdd383'), 'name': 'Chuck'}\n",
      "{'_id': ObjectId('65f889eb8f45bd0145fdd384'), 'name': 'Viola'}\n"
     ]
    }
   ],
   "source": [
    "for x in mycol.find({},{ \"address\": 0 }):\n",
    "  print(x)"
   ]
  },
  {
   "cell_type": "markdown",
   "id": "8a88e4f8",
   "metadata": {},
   "source": [
    "# Python MongoDB Query"
   ]
  },
  {
   "cell_type": "markdown",
   "id": "81a6794a",
   "metadata": {},
   "source": [
    "# Filter the Result\n",
    "When finding documents in a collection, you can filter the result by using a query object.\n",
    "\n",
    "The first argument of the find() method is a query object, and is used to limit the search"
   ]
  },
  {
   "cell_type": "code",
   "execution_count": null,
   "id": "484a6304",
   "metadata": {},
   "outputs": [],
   "source": [
    "myquery = { \"address\": \"Park Lane 38\" }\n",
    "\n",
    "mydoc = mycol.find(myquery)\n",
    "\n",
    "for x in mydoc:\n",
    "  print(x)"
   ]
  },
  {
   "cell_type": "markdown",
   "id": "6762a0c1",
   "metadata": {},
   "source": [
    "# Advanced Query"
   ]
  },
  {
   "cell_type": "code",
   "execution_count": 37,
   "id": "22567e4c",
   "metadata": {},
   "outputs": [
    {
     "name": "stdout",
     "output_type": "stream",
     "text": [
      "{'_id': ObjectId('65f8891e8f45bd0145fdd36c'), 'name': 'Michael', 'address': 'Valley 345'}\n",
      "{'_id': ObjectId('65f8891e8f45bd0145fdd36f'), 'name': 'Richard', 'address': 'Sky st 331'}\n",
      "{'_id': ObjectId('65f8891e8f45bd0145fdd371'), 'name': 'Vicky', 'address': 'Yellow Garden 2'}\n",
      "{'_id': ObjectId('65f8891e8f45bd0145fdd375'), 'name': 'Viola', 'address': 'Sideway 1633'}\n",
      "{'_id': ObjectId('65f889eb8f45bd0145fdd37b'), 'name': 'Michael', 'address': 'Valley 345'}\n",
      "{'_id': ObjectId('65f889eb8f45bd0145fdd37e'), 'name': 'Richard', 'address': 'Sky st 331'}\n",
      "{'_id': ObjectId('65f889eb8f45bd0145fdd380'), 'name': 'Vicky', 'address': 'Yellow Garden 2'}\n",
      "{'_id': ObjectId('65f889eb8f45bd0145fdd384'), 'name': 'Viola', 'address': 'Sideway 1633'}\n"
     ]
    }
   ],
   "source": [
    "#Find documents where the address starts with the letter \"S\" or higher:\n",
    "myquery = { \"address\": { \"$gt\": \"S\" } } # $gt is greater than operator\n",
    "mydoc = mycol.find(myquery)\n",
    "\n",
    "for x in mydoc:\n",
    "  print(x)"
   ]
  },
  {
   "cell_type": "code",
   "execution_count": 36,
   "id": "6b5b6114",
   "metadata": {},
   "outputs": [
    {
     "name": "stdout",
     "output_type": "stream",
     "text": [
      "{'_id': ObjectId('65f881678f45bd0145fdd368'), 'name': 'John', 'address': 'Highway 37'}\n",
      "{'_id': ObjectId('65f8891e8f45bd0145fdd36a'), 'name': 'Amy', 'address': 'Apple st 652'}\n",
      "{'_id': ObjectId('65f8891e8f45bd0145fdd36b'), 'name': 'Hannah', 'address': 'Mountain 21'}\n",
      "{'_id': ObjectId('65f8891e8f45bd0145fdd36d'), 'name': 'Sandy', 'address': 'Ocean blvd 2'}\n",
      "{'_id': ObjectId('65f8891e8f45bd0145fdd36e'), 'name': 'Betty', 'address': 'Green Grass 1'}\n",
      "{'_id': ObjectId('65f8891e8f45bd0145fdd370'), 'name': 'Susan', 'address': 'One way 98'}\n",
      "{'_id': ObjectId('65f8891e8f45bd0145fdd372'), 'name': 'Ben', 'address': 'Park Lane 38'}\n",
      "{'_id': ObjectId('65f8891e8f45bd0145fdd373'), 'name': 'William', 'address': 'Central st 954'}\n",
      "{'_id': ObjectId('65f8891e8f45bd0145fdd374'), 'name': 'Chuck', 'address': 'Main Road 989'}\n",
      "{'_id': ObjectId('65f889cc8f45bd0145fdd377'), 'name': 'John', 'address': 'Highway 37'}\n",
      "{'_id': ObjectId('65f889eb8f45bd0145fdd379'), 'name': 'Amy', 'address': 'Apple st 652'}\n",
      "{'_id': ObjectId('65f889eb8f45bd0145fdd37a'), 'name': 'Hannah', 'address': 'Mountain 21'}\n",
      "{'_id': ObjectId('65f889eb8f45bd0145fdd37c'), 'name': 'Sandy', 'address': 'Ocean blvd 2'}\n",
      "{'_id': ObjectId('65f889eb8f45bd0145fdd37d'), 'name': 'Betty', 'address': 'Green Grass 1'}\n",
      "{'_id': ObjectId('65f889eb8f45bd0145fdd37f'), 'name': 'Susan', 'address': 'One way 98'}\n",
      "{'_id': ObjectId('65f889eb8f45bd0145fdd381'), 'name': 'Ben', 'address': 'Park Lane 38'}\n",
      "{'_id': ObjectId('65f889eb8f45bd0145fdd382'), 'name': 'William', 'address': 'Central st 954'}\n",
      "{'_id': ObjectId('65f889eb8f45bd0145fdd383'), 'name': 'Chuck', 'address': 'Main Road 989'}\n"
     ]
    }
   ],
   "source": [
    "myquery = { \"address\": { \"$lt\": \"S\" } }\n",
    "\n",
    "mydoc = mycol.find(myquery)\n",
    "\n",
    "for x in mydoc:\n",
    "  print(x)"
   ]
  },
  {
   "cell_type": "markdown",
   "id": "01e17432",
   "metadata": {},
   "source": [
    "# Filter With Regular Expressions\n",
    "You can also use regular expressions as a modifier.\n",
    "\n",
    "## Regular expressions can only be used to query strings."
   ]
  },
  {
   "cell_type": "code",
   "execution_count": 38,
   "id": "1971c44d",
   "metadata": {},
   "outputs": [
    {
     "name": "stdout",
     "output_type": "stream",
     "text": [
      "{'_id': ObjectId('65f8891e8f45bd0145fdd36f'), 'name': 'Richard', 'address': 'Sky st 331'}\n",
      "{'_id': ObjectId('65f8891e8f45bd0145fdd375'), 'name': 'Viola', 'address': 'Sideway 1633'}\n",
      "{'_id': ObjectId('65f889eb8f45bd0145fdd37e'), 'name': 'Richard', 'address': 'Sky st 331'}\n",
      "{'_id': ObjectId('65f889eb8f45bd0145fdd384'), 'name': 'Viola', 'address': 'Sideway 1633'}\n"
     ]
    }
   ],
   "source": [
    "myquery = { \"address\": { \"$regex\": \"^S\" } }\n",
    "\n",
    "mydoc = mycol.find(myquery)\n",
    "\n",
    "for x in mydoc:\n",
    "  print(x)"
   ]
  },
  {
   "cell_type": "code",
   "execution_count": null,
   "id": "91f68296",
   "metadata": {},
   "outputs": [],
   "source": []
  },
  {
   "cell_type": "code",
   "execution_count": null,
   "id": "7d4581c2",
   "metadata": {},
   "outputs": [],
   "source": []
  },
  {
   "cell_type": "markdown",
   "id": "5da72afa",
   "metadata": {},
   "source": [
    "# Python MongoDB Sort"
   ]
  },
  {
   "cell_type": "markdown",
   "id": "17a599b0",
   "metadata": {},
   "source": [
    "# Sort the Result\n",
    "Use the sort() method to sort the result in ascending or descending order."
   ]
  },
  {
   "cell_type": "code",
   "execution_count": 39,
   "id": "26ace89f",
   "metadata": {},
   "outputs": [
    {
     "name": "stdout",
     "output_type": "stream",
     "text": [
      "{'_id': ObjectId('65f8891e8f45bd0145fdd36a'), 'name': 'Amy', 'address': 'Apple st 652'}\n",
      "{'_id': ObjectId('65f889eb8f45bd0145fdd379'), 'name': 'Amy', 'address': 'Apple st 652'}\n",
      "{'_id': ObjectId('65f8891e8f45bd0145fdd372'), 'name': 'Ben', 'address': 'Park Lane 38'}\n",
      "{'_id': ObjectId('65f889eb8f45bd0145fdd381'), 'name': 'Ben', 'address': 'Park Lane 38'}\n",
      "{'_id': ObjectId('65f8891e8f45bd0145fdd36e'), 'name': 'Betty', 'address': 'Green Grass 1'}\n",
      "{'_id': ObjectId('65f889eb8f45bd0145fdd37d'), 'name': 'Betty', 'address': 'Green Grass 1'}\n",
      "{'_id': ObjectId('65f8891e8f45bd0145fdd374'), 'name': 'Chuck', 'address': 'Main Road 989'}\n",
      "{'_id': ObjectId('65f889eb8f45bd0145fdd383'), 'name': 'Chuck', 'address': 'Main Road 989'}\n",
      "{'_id': ObjectId('65f8891e8f45bd0145fdd36b'), 'name': 'Hannah', 'address': 'Mountain 21'}\n",
      "{'_id': ObjectId('65f889eb8f45bd0145fdd37a'), 'name': 'Hannah', 'address': 'Mountain 21'}\n",
      "{'_id': ObjectId('65f881678f45bd0145fdd368'), 'name': 'John', 'address': 'Highway 37'}\n",
      "{'_id': ObjectId('65f889cc8f45bd0145fdd377'), 'name': 'John', 'address': 'Highway 37'}\n",
      "{'_id': ObjectId('65f8891e8f45bd0145fdd36c'), 'name': 'Michael', 'address': 'Valley 345'}\n",
      "{'_id': ObjectId('65f889eb8f45bd0145fdd37b'), 'name': 'Michael', 'address': 'Valley 345'}\n",
      "{'_id': ObjectId('65f8891e8f45bd0145fdd36f'), 'name': 'Richard', 'address': 'Sky st 331'}\n",
      "{'_id': ObjectId('65f889eb8f45bd0145fdd37e'), 'name': 'Richard', 'address': 'Sky st 331'}\n",
      "{'_id': ObjectId('65f8891e8f45bd0145fdd36d'), 'name': 'Sandy', 'address': 'Ocean blvd 2'}\n",
      "{'_id': ObjectId('65f889eb8f45bd0145fdd37c'), 'name': 'Sandy', 'address': 'Ocean blvd 2'}\n",
      "{'_id': ObjectId('65f8891e8f45bd0145fdd370'), 'name': 'Susan', 'address': 'One way 98'}\n",
      "{'_id': ObjectId('65f889eb8f45bd0145fdd37f'), 'name': 'Susan', 'address': 'One way 98'}\n",
      "{'_id': ObjectId('65f8891e8f45bd0145fdd371'), 'name': 'Vicky', 'address': 'Yellow Garden 2'}\n",
      "{'_id': ObjectId('65f889eb8f45bd0145fdd380'), 'name': 'Vicky', 'address': 'Yellow Garden 2'}\n",
      "{'_id': ObjectId('65f8891e8f45bd0145fdd375'), 'name': 'Viola', 'address': 'Sideway 1633'}\n",
      "{'_id': ObjectId('65f889eb8f45bd0145fdd384'), 'name': 'Viola', 'address': 'Sideway 1633'}\n",
      "{'_id': ObjectId('65f8891e8f45bd0145fdd373'), 'name': 'William', 'address': 'Central st 954'}\n",
      "{'_id': ObjectId('65f889eb8f45bd0145fdd382'), 'name': 'William', 'address': 'Central st 954'}\n"
     ]
    }
   ],
   "source": [
    "mydoc = mycol.find().sort(\"name\")\n",
    "\n",
    "for x in mydoc:\n",
    "  print(x)\n"
   ]
  },
  {
   "cell_type": "markdown",
   "id": "0d8dabc2",
   "metadata": {},
   "source": [
    "# Sort Descending\n",
    "Use the value -1 as the second parameter to sort descending.\n",
    "\n",
    "sort(\"name\", 1) #ascending\n",
    "sort(\"name\", -1) #descending"
   ]
  },
  {
   "cell_type": "code",
   "execution_count": 40,
   "id": "b85119eb",
   "metadata": {},
   "outputs": [
    {
     "name": "stdout",
     "output_type": "stream",
     "text": [
      "{'_id': ObjectId('65f8891e8f45bd0145fdd373'), 'name': 'William', 'address': 'Central st 954'}\n",
      "{'_id': ObjectId('65f889eb8f45bd0145fdd382'), 'name': 'William', 'address': 'Central st 954'}\n",
      "{'_id': ObjectId('65f8891e8f45bd0145fdd375'), 'name': 'Viola', 'address': 'Sideway 1633'}\n",
      "{'_id': ObjectId('65f889eb8f45bd0145fdd384'), 'name': 'Viola', 'address': 'Sideway 1633'}\n",
      "{'_id': ObjectId('65f8891e8f45bd0145fdd371'), 'name': 'Vicky', 'address': 'Yellow Garden 2'}\n",
      "{'_id': ObjectId('65f889eb8f45bd0145fdd380'), 'name': 'Vicky', 'address': 'Yellow Garden 2'}\n",
      "{'_id': ObjectId('65f8891e8f45bd0145fdd370'), 'name': 'Susan', 'address': 'One way 98'}\n",
      "{'_id': ObjectId('65f889eb8f45bd0145fdd37f'), 'name': 'Susan', 'address': 'One way 98'}\n",
      "{'_id': ObjectId('65f8891e8f45bd0145fdd36d'), 'name': 'Sandy', 'address': 'Ocean blvd 2'}\n",
      "{'_id': ObjectId('65f889eb8f45bd0145fdd37c'), 'name': 'Sandy', 'address': 'Ocean blvd 2'}\n",
      "{'_id': ObjectId('65f8891e8f45bd0145fdd36f'), 'name': 'Richard', 'address': 'Sky st 331'}\n",
      "{'_id': ObjectId('65f889eb8f45bd0145fdd37e'), 'name': 'Richard', 'address': 'Sky st 331'}\n",
      "{'_id': ObjectId('65f8891e8f45bd0145fdd36c'), 'name': 'Michael', 'address': 'Valley 345'}\n",
      "{'_id': ObjectId('65f889eb8f45bd0145fdd37b'), 'name': 'Michael', 'address': 'Valley 345'}\n",
      "{'_id': ObjectId('65f881678f45bd0145fdd368'), 'name': 'John', 'address': 'Highway 37'}\n",
      "{'_id': ObjectId('65f889cc8f45bd0145fdd377'), 'name': 'John', 'address': 'Highway 37'}\n",
      "{'_id': ObjectId('65f8891e8f45bd0145fdd36b'), 'name': 'Hannah', 'address': 'Mountain 21'}\n",
      "{'_id': ObjectId('65f889eb8f45bd0145fdd37a'), 'name': 'Hannah', 'address': 'Mountain 21'}\n",
      "{'_id': ObjectId('65f8891e8f45bd0145fdd374'), 'name': 'Chuck', 'address': 'Main Road 989'}\n",
      "{'_id': ObjectId('65f889eb8f45bd0145fdd383'), 'name': 'Chuck', 'address': 'Main Road 989'}\n",
      "{'_id': ObjectId('65f8891e8f45bd0145fdd36e'), 'name': 'Betty', 'address': 'Green Grass 1'}\n",
      "{'_id': ObjectId('65f889eb8f45bd0145fdd37d'), 'name': 'Betty', 'address': 'Green Grass 1'}\n",
      "{'_id': ObjectId('65f8891e8f45bd0145fdd372'), 'name': 'Ben', 'address': 'Park Lane 38'}\n",
      "{'_id': ObjectId('65f889eb8f45bd0145fdd381'), 'name': 'Ben', 'address': 'Park Lane 38'}\n",
      "{'_id': ObjectId('65f8891e8f45bd0145fdd36a'), 'name': 'Amy', 'address': 'Apple st 652'}\n",
      "{'_id': ObjectId('65f889eb8f45bd0145fdd379'), 'name': 'Amy', 'address': 'Apple st 652'}\n"
     ]
    }
   ],
   "source": [
    "mydoc = mycol.find().sort(\"name\", -1)\n",
    "\n",
    "for x in mydoc:\n",
    "  print(x)"
   ]
  },
  {
   "cell_type": "markdown",
   "id": "1dc9d0f7",
   "metadata": {},
   "source": [
    "# Python MongoDB Delete Document\n",
    "# Delete Document"
   ]
  },
  {
   "cell_type": "markdown",
   "id": "4b848dc3",
   "metadata": {},
   "source": [
    "To delete one document, we use the delete_one() method."
   ]
  },
  {
   "cell_type": "code",
   "execution_count": 41,
   "id": "5db1e13f",
   "metadata": {},
   "outputs": [
    {
     "data": {
      "text/plain": [
       "DeleteResult({'n': 1, 'ok': 1.0}, acknowledged=True)"
      ]
     },
     "execution_count": 41,
     "metadata": {},
     "output_type": "execute_result"
    }
   ],
   "source": [
    "\n",
    "myquery = { \"address\": \"Mountain 21\" }\n",
    "\n",
    "mycol.delete_one(myquery)"
   ]
  },
  {
   "cell_type": "code",
   "execution_count": 43,
   "id": "c20470a8",
   "metadata": {},
   "outputs": [
    {
     "name": "stdout",
     "output_type": "stream",
     "text": [
      "{'_id': ObjectId('65f881678f45bd0145fdd368'), 'name': 'John', 'address': 'Highway 37'}\n",
      "{'_id': ObjectId('65f8891e8f45bd0145fdd36a'), 'name': 'Amy', 'address': 'Apple st 652'}\n",
      "{'_id': ObjectId('65f8891e8f45bd0145fdd36c'), 'name': 'Michael', 'address': 'Valley 345'}\n",
      "{'_id': ObjectId('65f8891e8f45bd0145fdd36d'), 'name': 'Sandy', 'address': 'Ocean blvd 2'}\n",
      "{'_id': ObjectId('65f8891e8f45bd0145fdd36e'), 'name': 'Betty', 'address': 'Green Grass 1'}\n",
      "{'_id': ObjectId('65f8891e8f45bd0145fdd36f'), 'name': 'Richard', 'address': 'Sky st 331'}\n",
      "{'_id': ObjectId('65f8891e8f45bd0145fdd370'), 'name': 'Susan', 'address': 'One way 98'}\n",
      "{'_id': ObjectId('65f8891e8f45bd0145fdd371'), 'name': 'Vicky', 'address': 'Yellow Garden 2'}\n",
      "{'_id': ObjectId('65f8891e8f45bd0145fdd372'), 'name': 'Ben', 'address': 'Park Lane 38'}\n",
      "{'_id': ObjectId('65f8891e8f45bd0145fdd373'), 'name': 'William', 'address': 'Central st 954'}\n",
      "{'_id': ObjectId('65f8891e8f45bd0145fdd374'), 'name': 'Chuck', 'address': 'Main Road 989'}\n",
      "{'_id': ObjectId('65f8891e8f45bd0145fdd375'), 'name': 'Viola', 'address': 'Sideway 1633'}\n",
      "{'_id': ObjectId('65f889cc8f45bd0145fdd377'), 'name': 'John', 'address': 'Highway 37'}\n",
      "{'_id': ObjectId('65f889eb8f45bd0145fdd379'), 'name': 'Amy', 'address': 'Apple st 652'}\n",
      "{'_id': ObjectId('65f889eb8f45bd0145fdd37a'), 'name': 'Hannah', 'address': 'Mountain 21'}\n",
      "{'_id': ObjectId('65f889eb8f45bd0145fdd37b'), 'name': 'Michael', 'address': 'Valley 345'}\n",
      "{'_id': ObjectId('65f889eb8f45bd0145fdd37c'), 'name': 'Sandy', 'address': 'Ocean blvd 2'}\n",
      "{'_id': ObjectId('65f889eb8f45bd0145fdd37d'), 'name': 'Betty', 'address': 'Green Grass 1'}\n",
      "{'_id': ObjectId('65f889eb8f45bd0145fdd37e'), 'name': 'Richard', 'address': 'Sky st 331'}\n",
      "{'_id': ObjectId('65f889eb8f45bd0145fdd37f'), 'name': 'Susan', 'address': 'One way 98'}\n",
      "{'_id': ObjectId('65f889eb8f45bd0145fdd380'), 'name': 'Vicky', 'address': 'Yellow Garden 2'}\n",
      "{'_id': ObjectId('65f889eb8f45bd0145fdd381'), 'name': 'Ben', 'address': 'Park Lane 38'}\n",
      "{'_id': ObjectId('65f889eb8f45bd0145fdd382'), 'name': 'William', 'address': 'Central st 954'}\n",
      "{'_id': ObjectId('65f889eb8f45bd0145fdd383'), 'name': 'Chuck', 'address': 'Main Road 989'}\n",
      "{'_id': ObjectId('65f889eb8f45bd0145fdd384'), 'name': 'Viola', 'address': 'Sideway 1633'}\n"
     ]
    }
   ],
   "source": [
    "#print the customers collection after the deletion:\n",
    "for x in mycol.find():\n",
    "  print(x)\n"
   ]
  },
  {
   "cell_type": "code",
   "execution_count": 44,
   "id": "4ae8bc72",
   "metadata": {},
   "outputs": [
    {
     "name": "stdout",
     "output_type": "stream",
     "text": [
      "1  documents deleted.\n"
     ]
    }
   ],
   "source": [
    "x = mycol.delete_many(myquery)\n",
    "\n",
    "print(x.deleted_count, \" documents deleted.\")"
   ]
  },
  {
   "cell_type": "markdown",
   "id": "bf054624",
   "metadata": {},
   "source": [
    "# Delete Many Documents\n",
    "To delete more than one document, use the delete_many() method."
   ]
  },
  {
   "cell_type": "code",
   "execution_count": 45,
   "id": "91c69901",
   "metadata": {},
   "outputs": [
    {
     "name": "stdout",
     "output_type": "stream",
     "text": [
      "4  documents deleted.\n"
     ]
    }
   ],
   "source": [
    "#Delete all documents were the address starts with the letter S:\n",
    "\n",
    "import pymongo\n",
    "\n",
    "myclient = pymongo.MongoClient(\"mongodb://localhost:27017/\")\n",
    "mydb = myclient[\"mydatabase\"]\n",
    "mycol = mydb[\"customers\"]\n",
    "\n",
    "myquery = { \"address\": {\"$regex\": \"^S\"} }\n",
    "\n",
    "x = mycol.delete_many(myquery)\n",
    "\n",
    "print(x.deleted_count, \" documents deleted.\")"
   ]
  },
  {
   "cell_type": "markdown",
   "id": "c58eb7b9",
   "metadata": {},
   "source": [
    "# Delete All Documents in a Collection"
   ]
  },
  {
   "cell_type": "code",
   "execution_count": 46,
   "id": "a38cd646",
   "metadata": {},
   "outputs": [
    {
     "name": "stdout",
     "output_type": "stream",
     "text": [
      "20  documents deleted.\n"
     ]
    }
   ],
   "source": [
    "x = mycol.delete_many({})\n",
    "\n",
    "print(x.deleted_count, \" documents deleted.\")"
   ]
  },
  {
   "cell_type": "markdown",
   "id": "ff8cb6c6",
   "metadata": {},
   "source": [
    "# Delete Collection\n",
    "You can delete a table, or collection as it is called in MongoDB, by using the drop() method."
   ]
  },
  {
   "cell_type": "code",
   "execution_count": 59,
   "id": "f41c1694",
   "metadata": {},
   "outputs": [],
   "source": [
    "import pymongo\n",
    "\n",
    "myclient = pymongo.MongoClient(\"mongodb://localhost:27017/\")\n",
    "mydb = myclient[\"mydatabase\"]\n",
    "mycol = mydb[\"customers\"]\n",
    "\n",
    "mycol.drop()"
   ]
  },
  {
   "cell_type": "markdown",
   "id": "156abac9",
   "metadata": {},
   "source": [
    "# Update Collection\n",
    "You can update a record, or document as it is called in MongoDB, by using the update_one() method."
   ]
  },
  {
   "cell_type": "code",
   "execution_count": 60,
   "id": "1dec116b",
   "metadata": {},
   "outputs": [
    {
     "name": "stdout",
     "output_type": "stream",
     "text": [
      "{'_id': ObjectId('65f89a5b8f45bd0145fdd3c1'), 'name': 'Amy', 'address': 'Apple st 652'}\n",
      "{'_id': ObjectId('65f89a5b8f45bd0145fdd3c2'), 'name': 'Hannah', 'address': 'Mountain 21'}\n",
      "{'_id': ObjectId('65f89a5b8f45bd0145fdd3c3'), 'name': 'Michael', 'address': 'Canyon 123'}\n",
      "{'_id': ObjectId('65f89a5b8f45bd0145fdd3c4'), 'name': 'Sandy', 'address': 'Ocean blvd 2'}\n",
      "{'_id': ObjectId('65f89a5b8f45bd0145fdd3c5'), 'name': 'Betty', 'address': 'Green Grass 1'}\n",
      "{'_id': ObjectId('65f89a5b8f45bd0145fdd3c6'), 'name': 'Richard', 'address': 'Sky st 331'}\n",
      "{'_id': ObjectId('65f89a5b8f45bd0145fdd3c7'), 'name': 'Susan', 'address': 'One way 98'}\n",
      "{'_id': ObjectId('65f89a5b8f45bd0145fdd3c8'), 'name': 'Vicky', 'address': 'Yellow Garden 2'}\n",
      "{'_id': ObjectId('65f89a5b8f45bd0145fdd3c9'), 'name': 'Ben', 'address': 'Park Lane 38'}\n",
      "{'_id': ObjectId('65f89a5b8f45bd0145fdd3ca'), 'name': 'William', 'address': 'Central st 954'}\n",
      "{'_id': ObjectId('65f89a5b8f45bd0145fdd3cb'), 'name': 'Chuck', 'address': 'Main Road 989'}\n",
      "{'_id': ObjectId('65f89a5b8f45bd0145fdd3cc'), 'name': 'Viola', 'address': 'Sideway 1633'}\n"
     ]
    }
   ],
   "source": [
    "#Change the address from \"Valley 345\" to \"Canyon 123\":\n",
    "import pymongo\n",
    "\n",
    "myclient = pymongo.MongoClient(\"mongodb://localhost:27017/\")\n",
    "mydb = myclient[\"mydatabase\"]\n",
    "mycol = mydb[\"customers\"]\n",
    "\n",
    "mylist = [\n",
    "  { \"name\": \"Amy\", \"address\": \"Apple st 652\"},\n",
    "  { \"name\": \"Hannah\", \"address\": \"Mountain 21\"},\n",
    "  { \"name\": \"Michael\", \"address\": \"Valley 345\"},\n",
    "  { \"name\": \"Sandy\", \"address\": \"Ocean blvd 2\"},\n",
    "  { \"name\": \"Betty\", \"address\": \"Green Grass 1\"},\n",
    "  { \"name\": \"Richard\", \"address\": \"Sky st 331\"},\n",
    "  { \"name\": \"Susan\", \"address\": \"One way 98\"},\n",
    "  { \"name\": \"Vicky\", \"address\": \"Yellow Garden 2\"},\n",
    "  { \"name\": \"Ben\", \"address\": \"Park Lane 38\"},\n",
    "  { \"name\": \"William\", \"address\": \"Central st 954\"},\n",
    "  { \"name\": \"Chuck\", \"address\": \"Main Road 989\"},\n",
    "  { \"name\": \"Viola\", \"address\": \"Sideway 1633\"}\n",
    "]\n",
    "\n",
    "y= mycol.insert_many(mylist)\n",
    "\n",
    "myquery = { \"address\": \"Valley 345\" }\n",
    "newvalues = { \"$set\": { \"address\": \"Canyon 123\" } }\n",
    "\n",
    "mycol.update_one(myquery, newvalues)\n",
    "\n",
    "#print \"customers\" after the update:\n",
    "for x in mycol.find():\n",
    "  print(x)"
   ]
  },
  {
   "cell_type": "markdown",
   "id": "4b82ea1e",
   "metadata": {},
   "source": [
    "# Update Many\n",
    "To update all documents that meets the criteria of the query, use the update_many() method."
   ]
  },
  {
   "cell_type": "code",
   "execution_count": 61,
   "id": "be825c74",
   "metadata": {},
   "outputs": [
    {
     "name": "stdout",
     "output_type": "stream",
     "text": [
      "2 documents updated.\n"
     ]
    }
   ],
   "source": [
    "#Update all documents where the address starts with the letter \"S\":\n",
    "myquery = { \"address\": { \"$regex\": \"^S\" } }\n",
    "newvalues = { \"$set\": { \"name\": \"Minnie\" } }\n",
    "\n",
    "x = mycol.update_many(myquery, newvalues)\n",
    "\n",
    "print(x.modified_count, \"documents updated.\")"
   ]
  },
  {
   "cell_type": "markdown",
   "id": "1e59c594",
   "metadata": {},
   "source": [
    "# Limit the Result\n"
   ]
  },
  {
   "cell_type": "code",
   "execution_count": 66,
   "id": "07eefb14",
   "metadata": {},
   "outputs": [
    {
     "name": "stdout",
     "output_type": "stream",
     "text": [
      "{'_id': ObjectId('65f89a5b8f45bd0145fdd3c1'), 'name': 'Amy', 'address': 'Apple st 652'}\n",
      "{'_id': ObjectId('65f89a5b8f45bd0145fdd3c2'), 'name': 'Hannah', 'address': 'Mountain 21'}\n",
      "{'_id': ObjectId('65f89a5b8f45bd0145fdd3c3'), 'name': 'Michael', 'address': 'Canyon 123'}\n",
      "{'_id': ObjectId('65f89a5b8f45bd0145fdd3c4'), 'name': 'Sandy', 'address': 'Ocean blvd 2'}\n",
      "{'_id': ObjectId('65f89a5b8f45bd0145fdd3c5'), 'name': 'Betty', 'address': 'Green Grass 1'}\n"
     ]
    }
   ],
   "source": [
    "#Limit the result to only return 5 documents:\n",
    "myresult = mycol.find().limit(5)\n",
    "\n",
    "#print the result:\n",
    "for x in myresult:\n",
    "  print(x)\n"
   ]
  }
 ],
 "metadata": {
  "kernelspec": {
   "display_name": "Python 3 (ipykernel)",
   "language": "python",
   "name": "python3"
  },
  "language_info": {
   "codemirror_mode": {
    "name": "ipython",
    "version": 3
   },
   "file_extension": ".py",
   "mimetype": "text/x-python",
   "name": "python",
   "nbconvert_exporter": "python",
   "pygments_lexer": "ipython3",
   "version": "3.9.12"
  }
 },
 "nbformat": 4,
 "nbformat_minor": 5
}
