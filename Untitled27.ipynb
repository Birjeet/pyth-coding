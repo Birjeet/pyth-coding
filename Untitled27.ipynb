{
 "cells": [
  {
   "cell_type": "code",
   "execution_count": 3,
   "id": "464fe375",
   "metadata": {},
   "outputs": [
    {
     "name": "stdout",
     "output_type": "stream",
     "text": [
      "1.7.3\n"
     ]
    }
   ],
   "source": [
    "import scipy as sp\n",
    "print(scipy.__version__)"
   ]
  },
  {
   "cell_type": "code",
   "execution_count": 5,
   "id": "abba0c13",
   "metadata": {},
   "outputs": [
    {
     "name": "stdout",
     "output_type": "stream",
     "text": [
      "Requirement already satisfied: pip in c:\\users\\91894\\anaconda3\\lib\\site-packages (21.2.4)\n",
      "Collecting pip\n",
      "  Using cached pip-24.0-py3-none-any.whl (2.1 MB)\n",
      "Installing collected packages: pip\n",
      "  Attempting uninstall: pip\n",
      "    Found existing installation: pip 21.2.4\n",
      "    Uninstalling pip-21.2.4:\n",
      "      Successfully uninstalled pip-21.2.4\n",
      "Successfully installed pip-24.0\n",
      "Note: you may need to restart the kernel to use updated packages.\n"
     ]
    }
   ],
   "source": [
    "pip install --upgrade pip"
   ]
  },
  {
   "cell_type": "code",
   "execution_count": 7,
   "id": "74ce1dc3",
   "metadata": {},
   "outputs": [
    {
     "name": "stdout",
     "output_type": "stream",
     "text": [
      "Requirement already satisfied: numpy in c:\\users\\91894\\anaconda3\\lib\\site-packages (1.26.4)\n",
      "Note: you may need to restart the kernel to use updated packages.\n"
     ]
    }
   ],
   "source": [
    "pip install --upgrade numpy"
   ]
  },
  {
   "cell_type": "code",
   "execution_count": 8,
   "id": "308907c5",
   "metadata": {},
   "outputs": [
    {
     "name": "stdout",
     "output_type": "stream",
     "text": [
      "Requirement already satisfied: scipy in c:\\users\\91894\\anaconda3\\lib\\site-packages (1.12.0)\n",
      "Requirement already satisfied: numpy<1.29.0,>=1.22.4 in c:\\users\\91894\\anaconda3\\lib\\site-packages (from scipy) (1.26.4)\n",
      "Note: you may need to restart the kernel to use updated packages.\n"
     ]
    }
   ],
   "source": [
    "pip install --upgrade scipy"
   ]
  },
  {
   "cell_type": "code",
   "execution_count": 3,
   "id": "e141b0dd",
   "metadata": {},
   "outputs": [
    {
     "name": "stdout",
     "output_type": "stream",
     "text": [
      "1.12.0\n"
     ]
    }
   ],
   "source": [
    "import scipy \n",
    "print(scipy.__version__)"
   ]
  },
  {
   "cell_type": "code",
   "execution_count": 4,
   "id": "c12c5745",
   "metadata": {},
   "outputs": [
    {
     "name": "stdout",
     "output_type": "stream",
     "text": [
      "['Avogadro', 'Boltzmann', 'Btu', 'Btu_IT', 'Btu_th', 'ConstantWarning', 'G', 'Julian_year', 'N_A', 'Planck', 'R', 'Rydberg', 'Stefan_Boltzmann', 'Wien', '__all__', '__builtins__', '__cached__', '__doc__', '__file__', '__loader__', '__name__', '__package__', '__path__', '__spec__', '_codata', '_constants', '_obsolete_constants', 'acre', 'alpha', 'angstrom', 'arcmin', 'arcminute', 'arcsec', 'arcsecond', 'astronomical_unit', 'atm', 'atmosphere', 'atomic_mass', 'atto', 'au', 'bar', 'barrel', 'bbl', 'blob', 'c', 'calorie', 'calorie_IT', 'calorie_th', 'carat', 'centi', 'codata', 'constants', 'convert_temperature', 'day', 'deci', 'degree', 'degree_Fahrenheit', 'deka', 'dyn', 'dyne', 'e', 'eV', 'electron_mass', 'electron_volt', 'elementary_charge', 'epsilon_0', 'erg', 'exa', 'exbi', 'femto', 'fermi', 'find', 'fine_structure', 'fluid_ounce', 'fluid_ounce_US', 'fluid_ounce_imp', 'foot', 'g', 'gallon', 'gallon_US', 'gallon_imp', 'gas_constant', 'gibi', 'giga', 'golden', 'golden_ratio', 'grain', 'gram', 'gravitational_constant', 'h', 'hbar', 'hectare', 'hecto', 'horsepower', 'hour', 'hp', 'inch', 'k', 'kgf', 'kibi', 'kilo', 'kilogram_force', 'kmh', 'knot', 'lambda2nu', 'lb', 'lbf', 'light_year', 'liter', 'litre', 'long_ton', 'm_e', 'm_n', 'm_p', 'm_u', 'mach', 'mebi', 'mega', 'metric_ton', 'micro', 'micron', 'mil', 'mile', 'milli', 'minute', 'mmHg', 'mph', 'mu_0', 'nano', 'nautical_mile', 'neutron_mass', 'nu2lambda', 'ounce', 'oz', 'parsec', 'pebi', 'peta', 'physical_constants', 'pi', 'pico', 'point', 'pound', 'pound_force', 'precision', 'proton_mass', 'psi', 'pt', 'quecto', 'quetta', 'ronna', 'ronto', 'short_ton', 'sigma', 'slinch', 'slug', 'speed_of_light', 'speed_of_sound', 'stone', 'survey_foot', 'survey_mile', 'tebi', 'tera', 'test', 'ton_TNT', 'torr', 'troy_ounce', 'troy_pound', 'u', 'unit', 'value', 'week', 'yard', 'year', 'yobi', 'yocto', 'yotta', 'zebi', 'zepto', 'zero_Celsius', 'zetta']\n"
     ]
    }
   ],
   "source": [
    "from scipy import constants\n",
    "\n",
    "print(dir(constants))\n"
   ]
  },
  {
   "cell_type": "code",
   "execution_count": 14,
   "id": "14c990e9",
   "metadata": {},
   "outputs": [
    {
     "name": "stdout",
     "output_type": "stream",
     "text": [
      "111.13013065 kg\n"
     ]
    }
   ],
   "source": [
    "print(\"{} {}\" .format(constants.pound *245,\"kg\" ))"
   ]
  },
  {
   "cell_type": "code",
   "execution_count": 15,
   "id": "fda1d81c",
   "metadata": {},
   "outputs": [
    {
     "data": {
      "text/plain": [
       "0.0254"
      ]
     },
     "execution_count": 15,
     "metadata": {},
     "output_type": "execute_result"
    }
   ],
   "source": [
    "constants.inch"
   ]
  },
  {
   "cell_type": "markdown",
   "id": "1706f05f",
   "metadata": {},
   "source": [
    "# SciPy Optimizers\n"
   ]
  },
  {
   "cell_type": "markdown",
   "id": "83c7fdfd",
   "metadata": {},
   "source": [
    "# Optimizers in SciPy\n",
    "Optimizers are a set of procedures defined in SciPy that either find the minimum value of a function, or the root of an equation.\n",
    "\n"
   ]
  },
  {
   "cell_type": "markdown",
   "id": "f6339645",
   "metadata": {},
   "source": [
    "# Roots of an Equation\n",
    "NumPy is capable of finding roots for polynomials and linear equations, but it can not find roots for non linear equations, like this one:\n",
    "\n",
    "x + cos(x)\n",
    "\n",
    "For that you can use SciPy's optimze.root function.\n",
    "\n",
    "This function takes two required arguments:\n",
    "\n",
    "fun - a function representing an equation.\n",
    "\n",
    "x0 - an initial guess for the root.\n",
    "\n",
    "The function returns an object with information regarding the solution.\n",
    "\n",
    "The actual solution is given under attribute x of the returned object:"
   ]
  },
  {
   "cell_type": "code",
   "execution_count": 19,
   "id": "b70249e9",
   "metadata": {},
   "outputs": [
    {
     "name": "stdout",
     "output_type": "stream",
     "text": [
      "[-0.73908513]\n"
     ]
    },
    {
     "name": "stderr",
     "output_type": "stream",
     "text": [
      "C:\\Users\\91894\\AppData\\Local\\Temp\\ipykernel_23752\\4094675503.py:7: DeprecationWarning: Conversion of an array with ndim > 0 to a scalar is deprecated, and will error in future. Ensure you extract a single element from your array before performing this operation. (Deprecated NumPy 1.25.)\n",
      "  return x + cos(x)\n"
     ]
    }
   ],
   "source": [
    "#Find root of the equation x + cos(x):\n",
    "\n",
    "from scipy.optimize import root\n",
    "from math import cos\n",
    "\n",
    "def eqn(x):\n",
    "  return x + cos(x)\n",
    "\n",
    "myroot = root(eqn, 0)# 0 is the initial value \n",
    "\n",
    "print(myroot.x)"
   ]
  },
  {
   "cell_type": "code",
   "execution_count": 20,
   "id": "c6201c34",
   "metadata": {},
   "outputs": [
    {
     "name": "stdout",
     "output_type": "stream",
     "text": [
      " message: The solution converged.\n",
      " success: True\n",
      "  status: 1\n",
      "     fun: [ 0.000e+00]\n",
      "       x: [-7.391e-01]\n",
      "  method: hybr\n",
      "    nfev: 9\n",
      "    fjac: [[-1.000e+00]]\n",
      "       r: [-1.674e+00]\n",
      "     qtf: [-2.668e-13]\n"
     ]
    },
    {
     "name": "stderr",
     "output_type": "stream",
     "text": [
      "C:\\Users\\91894\\AppData\\Local\\Temp\\ipykernel_23752\\2287473408.py:5: DeprecationWarning: Conversion of an array with ndim > 0 to a scalar is deprecated, and will error in future. Ensure you extract a single element from your array before performing this operation. (Deprecated NumPy 1.25.)\n",
      "  return x + cos(x)\n"
     ]
    }
   ],
   "source": [
    "#Print all information about the solution (not just x which is the root)\n",
    "from scipy.optimize import root\n",
    "from math import cos\n",
    "\n",
    "def eqn(x):\n",
    "  return x + cos(x)\n",
    "\n",
    "myroot = root(eqn, 0)\n",
    "\n",
    "print(myroot)"
   ]
  },
  {
   "cell_type": "markdown",
   "id": "bdf45116",
   "metadata": {},
   "source": [
    "# Minimizing a Function\n",
    "A function, in this context, represents a curve, curves have high points and low points.\n",
    "\n",
    "High points are called maxima.\n",
    "\n",
    "Low points are called minima.\n",
    "\n",
    "The highest point in the whole curve is called global maxima, whereas the rest of them are called local maxima.\n",
    "\n",
    "The lowest point in whole curve is called global minima, whereas the rest of them are called local minima."
   ]
  },
  {
   "cell_type": "markdown",
   "id": "a8bbf256",
   "metadata": {},
   "source": [
    "# Finding Minima\n",
    "We can use scipy.optimize.minimize() function to minimize the function.\n",
    "\n",
    "The minimize() function takes the following arguments:\n",
    "\n",
    "fun - a function representing an equation.\n",
    "\n",
    "x0 - an initial guess for the root.\n",
    "\n",
    "method - name of the method to use. Legal values:\n",
    "  -  'CG'\n",
    "  - 'BFGS'\n",
    "  - 'Newton-CG'\n",
    "  - 'L-BFGS-B'\n",
    "  - 'TNC'\n",
    "  - 'COBYLA'\n",
    "  - 'SLSQP'\n",
    "\n",
    "callback - function called after each iteration of optimization.\n",
    "\n",
    "options - a dictionary defining extra params:\n",
    "\n",
    "{\n",
    "     \"disp\": boolean - print detailed description\n",
    "     \n",
    "     \n",
    "     \"gtol\": number - the tolerance of the error\n",
    "  }"
   ]
  },
  {
   "cell_type": "code",
   "execution_count": 22,
   "id": "1adeca08",
   "metadata": {},
   "outputs": [
    {
     "name": "stdout",
     "output_type": "stream",
     "text": [
      "  message: Optimization terminated successfully.\n",
      "  success: True\n",
      "   status: 0\n",
      "      fun: 1.75\n",
      "        x: [-5.000e-01]\n",
      "      nit: 2\n",
      "      jac: [ 0.000e+00]\n",
      " hess_inv: [[ 5.000e-01]]\n",
      "     nfev: 8\n",
      "     njev: 4\n"
     ]
    }
   ],
   "source": [
    "#Minimize the function x^2 + x + 2 with BFGS:\n",
    "\n",
    "from scipy.optimize import minimize\n",
    "\n",
    "def eqn(x):\n",
    "  return x**2 + x + 2\n",
    "\n",
    "mymin = minimize(eqn, 0, method='BFGS')\n",
    "\n",
    "print(mymin)"
   ]
  },
  {
   "cell_type": "markdown",
   "id": "12765126",
   "metadata": {},
   "source": [
    "# SciPy Sparse Data\n"
   ]
  },
  {
   "cell_type": "markdown",
   "id": "6172312f",
   "metadata": {},
   "source": [
    "# What is Sparse Data\n",
    "Sparse data is data that has mostly unused elements (elements that don't carry any information ).\n",
    "\n",
    "It can be an array like this one:"
   ]
  },
  {
   "cell_type": "markdown",
   "id": "93dd1d8c",
   "metadata": {},
   "source": [
    "Sparse Data: is a data set where most of the item values are zero.\n",
    "\n",
    "Dense Array: is the opposite of a sparse array: most of the values are not zero."
   ]
  },
  {
   "cell_type": "markdown",
   "id": "adef2b75",
   "metadata": {},
   "source": [
    "In scientific computing, when we are dealing with partial derivatives in linear algebra we will come across sparse data.\n",
    "\n",
    "# How to Work With Sparse Data"
   ]
  },
  {
   "cell_type": "markdown",
   "id": "83f679e2",
   "metadata": {},
   "source": [
    "SciPy has a module, scipy.sparse that provides functions to deal with sparse data.\n",
    "\n",
    "There are primarily two types of sparse matrices that we use:\n",
    "\n",
    "CSC - Compressed Sparse Column. For efficient arithmetic, fast column slicing.\n",
    "\n",
    "CSR - Compressed Sparse Row. For fast row slicing, faster matrix vector products\n",
    "\n",
    "We will use the CSR matrix in this tutorial.\n",
    "\n"
   ]
  },
  {
   "cell_type": "markdown",
   "id": "f735cfda",
   "metadata": {},
   "source": [
    "# CSR Matrix\n",
    "We can create CSR matrix by passing an arrray into function scipy.sparse.csr_matrix().\n",
    "\n"
   ]
  },
  {
   "cell_type": "code",
   "execution_count": 24,
   "id": "252c59f7",
   "metadata": {},
   "outputs": [
    {
     "name": "stdout",
     "output_type": "stream",
     "text": [
      "  (0, 5)\t1\n",
      "  (0, 6)\t1\n",
      "  (0, 8)\t2\n"
     ]
    }
   ],
   "source": [
    "#Create a CSR matrix from an array:\n",
    "\n",
    "import numpy as np\n",
    "from scipy.sparse import csr_matrix\n",
    "\n",
    "arr = np.array([0, 0, 0, 0, 0, 1, 1, 0, 2])\n",
    "\n",
    "print(csr_matrix(arr))"
   ]
  },
  {
   "cell_type": "markdown",
   "id": "b418d537",
   "metadata": {},
   "source": [
    "From the result we can see that there are 3 items with value.\n",
    "\n",
    "The 1. item is in row 0 position 5 and has the value 1.\n",
    "\n",
    "The 2. item is in row 0 position 6 and has the value 1.\n",
    "\n",
    "The 3. item is in row 0 position 8 and has the value 2.\n",
    "\n"
   ]
  },
  {
   "cell_type": "markdown",
   "id": "1ced06c7",
   "metadata": {},
   "source": [
    "# Sparse Matrix Methods\n",
    "Viewing stored data (not the zero items) with the data property:"
   ]
  },
  {
   "cell_type": "code",
   "execution_count": 26,
   "id": "9389ddfc",
   "metadata": {},
   "outputs": [
    {
     "name": "stdout",
     "output_type": "stream",
     "text": [
      "  (1, 2)\t1\n",
      "  (2, 0)\t1\n",
      "  (2, 2)\t2\n"
     ]
    }
   ],
   "source": [
    "import numpy as np\n",
    "from scipy.sparse import csr_matrix\n",
    "\n",
    "arr = np.array([[0, 0, 0], [0, 0, 1], [1, 0, 2]])\n",
    "\n",
    "print(csr_matrix(arr))"
   ]
  },
  {
   "cell_type": "code",
   "execution_count": 28,
   "id": "7af3b098",
   "metadata": {},
   "outputs": [
    {
     "name": "stdout",
     "output_type": "stream",
     "text": [
      "[9 1 1 2]\n"
     ]
    }
   ],
   "source": [
    "import numpy as np\n",
    "from scipy.sparse import csr_matrix\n",
    "\n",
    "arr = np.array([[0, 0, 0], [0, 9, 1], [1, 0, 2]])\n",
    "\n",
    "print(csr_matrix(arr).data)\n"
   ]
  },
  {
   "cell_type": "markdown",
   "id": "aaa1cf64",
   "metadata": {},
   "source": [
    "### Counting nonzeros with the count_nonzero() method:"
   ]
  },
  {
   "cell_type": "code",
   "execution_count": 29,
   "id": "d21be166",
   "metadata": {},
   "outputs": [
    {
     "name": "stdout",
     "output_type": "stream",
     "text": [
      "3\n"
     ]
    }
   ],
   "source": [
    "import numpy as np\n",
    "from scipy.sparse import csr_matrix\n",
    "\n",
    "arr = np.array([[0, 0, 0], [0, 0, 1], [1, 0, 2]])\n",
    "\n",
    "print(csr_matrix(arr).count_nonzero())"
   ]
  },
  {
   "cell_type": "markdown",
   "id": "7393ff93",
   "metadata": {},
   "source": [
    "### Removing zero-entries from the matrix with the eliminate_zeros() method\n",
    ":"
   ]
  },
  {
   "cell_type": "code",
   "execution_count": null,
   "id": "32ae7817",
   "metadata": {},
   "outputs": [],
   "source": [
    "# import numpy as np\n",
    "from scipy.sparse import csr_matrix\n",
    "\n",
    "arr = np.array([[0, 0, 0], [0, 0, 1], [1, 0, 2]])\n",
    "\n",
    "mat = csr_matrix(arr)\n",
    "mat.eliminate_zeros()\n",
    "\n",
    "print(mat)"
   ]
  },
  {
   "cell_type": "markdown",
   "id": "cbc8deea",
   "metadata": {},
   "source": [
    "### Eliminating duplicate entries with the sum_duplicates() method:"
   ]
  },
  {
   "cell_type": "code",
   "execution_count": 40,
   "id": "b992490d",
   "metadata": {},
   "outputs": [
    {
     "name": "stdout",
     "output_type": "stream",
     "text": [
      "  (1, 2)\t1\n",
      "  (2, 0)\t1\n",
      "  (2, 2)\t2\n"
     ]
    }
   ],
   "source": [
    "#Eliminating duplicates by adding them:\n",
    "\n",
    "import numpy as np\n",
    "from scipy.sparse import csr_matrix\n",
    "\n",
    "arr = np.array([[0, 0, 0], [0, 0, 1], [1, 0, 2]])\n",
    "\n",
    "mat = csr_matrix(arr)\n",
    "mat.sum_duplicates()\n",
    "\n",
    "print(mat)"
   ]
  },
  {
   "cell_type": "markdown",
   "id": "6e5360eb",
   "metadata": {},
   "source": [
    "### Converting from csr to csc with the tocsc() method:"
   ]
  },
  {
   "cell_type": "code",
   "execution_count": 41,
   "id": "1ed9988c",
   "metadata": {},
   "outputs": [
    {
     "name": "stdout",
     "output_type": "stream",
     "text": [
      "  (2, 0)\t1\n",
      "  (1, 2)\t1\n",
      "  (2, 2)\t2\n"
     ]
    }
   ],
   "source": [
    "import numpy as np\n",
    "from scipy.sparse import csr_matrix\n",
    "\n",
    "arr = np.array([[0, 0, 0], [0, 0, 1], [1, 0, 2]])\n",
    "\n",
    "newarr = csr_matrix(arr).tocsc()\n",
    "\n",
    "print(newarr)\n"
   ]
  },
  {
   "cell_type": "markdown",
   "id": "d0abbff1",
   "metadata": {},
   "source": [
    "Note: Apart from the mentioned sparse specific operations, sparse matrices support all of the operations that normal matrices support e.g. reshaping, summing, arithemetic, broadcasting etc."
   ]
  },
  {
   "cell_type": "markdown",
   "id": "aecf3548",
   "metadata": {},
   "source": [
    "# SciPy Graphs\n",
    "# Working with Graphs\n",
    "Graphs are an essential data structure.\n",
    "\n",
    "SciPy provides us with the module scipy.sparse.csgraph for working with such data structures."
   ]
  },
  {
   "attachments": {},
   "cell_type": "markdown",
   "id": "ff9ebd66",
   "metadata": {},
   "source": [
    "# Adjacency Matrix\n",
    "Adjacency matrix is a nxn matrix where n is the number of elements in a graph.\n",
    "\n",
    "And the values represents the connection between the elements"
   ]
  },
  {
   "cell_type": "markdown",
   "id": "499b70de",
   "metadata": {},
   "source": [
    "# Connected Components\n",
    "Find all of the connected components with the connected_components() method.\n",
    "Example\n"
   ]
  },
  {
   "cell_type": "code",
   "execution_count": 48,
   "id": "ba7c6a90",
   "metadata": {},
   "outputs": [
    {
     "name": "stdout",
     "output_type": "stream",
     "text": [
      "(1, array([0, 0, 0]))\n"
     ]
    }
   ],
   "source": [
    "import numpy as np\n",
    "from scipy.sparse.csgraph import connected_components\n",
    "from scipy.sparse import csr_matrix\n",
    "\n",
    "arr = np.array([\n",
    "  [0, 1, 2],\n",
    "  [1, 0, 0],\n",
    "  [2, 0, 0]\n",
    "])\n",
    "\n",
    "newarr = csr_matrix(arr)\n",
    "\n",
    "print(connected_components(newarr))"
   ]
  },
  {
   "cell_type": "code",
   "execution_count": 51,
   "id": "729c7afa",
   "metadata": {},
   "outputs": [
    {
     "ename": "SyntaxError",
     "evalue": "unexpected EOF while parsing (1293845796.py, line 1)",
     "output_type": "error",
     "traceback": [
      "\u001b[1;36m  Input \u001b[1;32mIn [51]\u001b[1;36m\u001b[0m\n\u001b[1;33m    print(connected_components(newarr)\u001b[0m\n\u001b[1;37m                                      ^\u001b[0m\n\u001b[1;31mSyntaxError\u001b[0m\u001b[1;31m:\u001b[0m unexpected EOF while parsing\n"
     ]
    }
   ],
   "source": [
    "print(connected_components(newarr)"
   ]
  },
  {
   "cell_type": "code",
   "execution_count": 60,
   "id": "31caec70",
   "metadata": {},
   "outputs": [
    {
     "name": "stdout",
     "output_type": "stream",
     "text": [
      "(2, array([0, 1, 0]))\n"
     ]
    }
   ],
   "source": [
    "import numpy as np\n",
    "from scipy.sparse.csgraph import connected_components\n",
    "from scipy.sparse import csr_matrix\n",
    "\n",
    "arr = np.array([\n",
    "  [0, 0, 2],\n",
    "  [0, 0, 0],\n",
    "  [2, 0, 0]\n",
    "])\n",
    "\n",
    "newarr = csr_matrix(arr)\n",
    "\n",
    "print(connected_components(arr))"
   ]
  },
  {
   "cell_type": "markdown",
   "id": "9a5865d7",
   "metadata": {},
   "source": [
    "# Dijkstra\n",
    "Use the dijkstra method to find the shortest path in a graph from one element to another.\n",
    "\n",
    "It takes following arguments:\n",
    "\n",
    "- return_predecessors: boolean (True to return whole path of traversal otherwise False).\n",
    "- indices: index of the element to return all paths from that element only.\n",
    "- limit: max weight of path.\n",
    "\n",
    "\n",
    "Example\n",
    "Find the shortest path from element 1 to 2:"
   ]
  },
  {
   "cell_type": "code",
   "execution_count": 61,
   "id": "30f40c3e",
   "metadata": {},
   "outputs": [
    {
     "name": "stdout",
     "output_type": "stream",
     "text": [
      "(array([0., 1., 2.]), array([-9999,     0,     0]))\n"
     ]
    }
   ],
   "source": [
    "import numpy as np\n",
    "from scipy.sparse.csgraph import dijkstra\n",
    "from scipy.sparse import csr_matrix\n",
    "\n",
    "arr = np.array([\n",
    "  [0, 1, 2],\n",
    "  [1, 0, 0],\n",
    "  [2, 0, 0]\n",
    "])\n",
    "\n",
    "newarr = csr_matrix(arr)\n",
    "\n",
    "print(dijkstra(newarr, return_predecessors=True, indices=0))"
   ]
  },
  {
   "cell_type": "markdown",
   "id": "f1f551b7",
   "metadata": {},
   "source": [
    "# Floyd Warshall\n",
    "Use the floyd_warshall() method to find shortest path between all pairs of elements."
   ]
  },
  {
   "cell_type": "code",
   "execution_count": 66,
   "id": "62f5c405",
   "metadata": {},
   "outputs": [
    {
     "name": "stdout",
     "output_type": "stream",
     "text": [
      "(array([[0., 1., 2.],\n",
      "       [1., 0., 3.],\n",
      "       [2., 3., 0.]]), array([[-9999,     0,     0],\n",
      "       [    1, -9999,     0],\n",
      "       [    2,     0, -9999]]))\n"
     ]
    }
   ],
   "source": [
    "#Find the shortest path between all pairs of elements:\n",
    "\n",
    "import numpy as np\n",
    "from scipy.sparse.csgraph import floyd_warshall\n",
    "from scipy.sparse import csr_matrix\n",
    "\n",
    "arr = np.array([\n",
    "  [0, 1, 2],\n",
    "  [1, 0, 0],\n",
    "  [2, 0, 0]\n",
    "])\n",
    "\n",
    "newarr = csr_matrix(arr)\n",
    "\n",
    "print(floyd_warshall(newarr, return_predecessors=True))\n"
   ]
  },
  {
   "cell_type": "markdown",
   "id": "e142983d",
   "metadata": {},
   "source": [
    "# Bellman Ford\n",
    "The bellman_ford() method can also find the shortest path between all pairs of elements, but this method can handle negative weights as well."
   ]
  },
  {
   "cell_type": "code",
   "execution_count": 64,
   "id": "dad3f030",
   "metadata": {},
   "outputs": [
    {
     "name": "stdout",
     "output_type": "stream",
     "text": [
      "(array([ 0., -1.,  2.]), array([-9999,     0,     0]))\n"
     ]
    }
   ],
   "source": [
    "#Find shortest path from element 1 to 2 with given graph with a negative weight:\n",
    "\n",
    "import numpy as np\n",
    "from scipy.sparse.csgraph import bellman_ford\n",
    "from scipy.sparse import csr_matrix\n",
    "\n",
    "arr = np.array([\n",
    "  [0, -1, 2],\n",
    "  [1, 0, 0],\n",
    "  [2, 0, 0]\n",
    "])\n",
    "\n",
    "newarr = csr_matrix(arr)\n",
    "\n",
    "print(bellman_ford(newarr, return_predecessors=True, indices=0))"
   ]
  },
  {
   "cell_type": "markdown",
   "id": "f56d26da",
   "metadata": {},
   "source": [
    "# Depth First Order\n",
    "The depth_first_order() method returns a depth first traversal from a node.\n",
    "\n",
    "This function takes following arguments:\n",
    "\n",
    "the graph.\n",
    "the starting element to traverse graph from.\n",
    "\n",
    "Example"
   ]
  },
  {
   "cell_type": "code",
   "execution_count": 67,
   "id": "5219a229",
   "metadata": {},
   "outputs": [
    {
     "name": "stdout",
     "output_type": "stream",
     "text": [
      "(array([1, 0, 3, 2]), array([    1, -9999,     1,     0]))\n"
     ]
    }
   ],
   "source": [
    "#Traverse the graph depth first for given adjacency matrix:\n",
    "\n",
    "import numpy as np\n",
    "from scipy.sparse.csgraph import depth_first_order\n",
    "from scipy.sparse import csr_matrix\n",
    "\n",
    "arr = np.array([\n",
    "  [0, 1, 0, 1],\n",
    "  [1, 1, 1, 1],\n",
    "  [2, 1, 1, 0],\n",
    "  [0, 1, 0, 1]\n",
    "])\n",
    "\n",
    "newarr = csr_matrix(arr)\n",
    "\n",
    "print(depth_first_order(newarr, 1))\n"
   ]
  },
  {
   "cell_type": "markdown",
   "id": "f47c0bc2",
   "metadata": {},
   "source": [
    "# SciPy Spatial Data\n",
    "# Working with Spatial Data\n",
    "Spatial data refers to data that is represented in a geometric space.\n",
    "\n",
    "E.g. points on a coordinate system.\n",
    "\n",
    "We deal with spatial data problems on many tasks.\n",
    "\n",
    "E.g. finding if a point is inside a boundary or not.\n",
    "\n",
    "SciPy provides us with the module scipy.spatial, which has functions for working with spatial data.\n",
    "\n",
    "Triangulation\n"
   ]
  },
  {
   "cell_type": "markdown",
   "id": "1eeef144",
   "metadata": {},
   "source": [
    "# Triangulation\n",
    "A Triangulation of a polygon is to divide the polygon into multiple triangles with which we can compute an area of the polygon.\n",
    "\n",
    "A Triangulation with points means creating surface composed triangles in which all of the given points are on at least one vertex of any triangle in the surface.\n",
    "\n",
    "One method to generate these triangulations through points is the Delaunay() Triangulation."
   ]
  },
  {
   "cell_type": "code",
   "execution_count": 72,
   "id": "5321b3d9",
   "metadata": {},
   "outputs": [
    {
     "data": {
      "image/png": "[encoded data removed]",
      "text/plain": [
       "<Figure size 432x288 with 1 Axes>"
      ]
     },
     "metadata": {
      "needs_background": "light"
     },
     "output_type": "display_data"
    }
   ],
   "source": [
    "#Create a triangulation from following points:\n",
    "\n",
    "import numpy as np\n",
    "from scipy.spatial import Delaunay\n",
    "import matplotlib.pyplot as plt\n",
    "\n",
    "points = np.array([\n",
    "  [2, 4],\n",
    "  [3, 4],\n",
    "  [3, 0],\n",
    "  [2, 2],\n",
    "  [4, 1]\n",
    "])\n",
    "\n",
    "simplices = Delaunay(points).simplices\n",
    "\n",
    "plt.triplot(points[:, 0], points[:, 1], simplices)\n",
    "plt.scatter(points[:, 0], points[:, 1], color='r')\n",
    "\n",
    "plt.show()"
   ]
  },
  {
   "cell_type": "markdown",
   "id": "cb68c247",
   "metadata": {},
   "source": [
    "Note: The simplices property creates a generalization of the triangle notation."
   ]
  },
  {
   "cell_type": "markdown",
   "id": "add32dc6",
   "metadata": {},
   "source": [
    "# Convex Hull\n",
    "A convex hull is the smallest polygon that covers all of the given points.\n",
    "\n",
    "Use the ConvexHull() method to create a Convex Hull."
   ]
  },
  {
   "cell_type": "code",
   "execution_count": 74,
   "id": "e8477394",
   "metadata": {},
   "outputs": [
    {
     "data": {
      "image/png": "[encoded data removed]",
      "text/plain": [
       "<Figure size 432x288 with 1 Axes>"
      ]
     },
     "metadata": {
      "needs_background": "light"
     },
     "output_type": "display_data"
    }
   ],
   "source": [
    "import numpy as np\n",
    "from scipy.spatial import ConvexHull\n",
    "import matplotlib.pyplot as plt\n",
    "\n",
    "points = np.array([\n",
    "  [2, 4],\n",
    "  [3, 4],\n",
    "  [3, 0],\n",
    "  [2, 2],\n",
    "  [4, 1],\n",
    "  [1, 2],\n",
    "  [5, 0],\n",
    "  [3, 1],\n",
    "  [1, 2],\n",
    "  [0, 2]\n",
    "])\n",
    "\n",
    "hull = ConvexHull(points)\n",
    "hull_points = hull.simplices\n",
    "plt.scatter(points[:,0], points[:,1])\n",
    "for simplex in hull_points:\n",
    "  plt.plot(points[simplex,0], points[simplex,1], 'k-')\n",
    "\n",
    "plt.show()"
   ]
  },
  {
   "cell_type": "markdown",
   "id": "1e1088c6",
   "metadata": {},
   "source": [
    "# KDTrees\n",
    "KDTrees are a datastructure optimized for nearest neighbor queries.\n",
    "\n",
    "E.g. in a set of points using KDTrees we can efficiently ask which points are nearest to a certain given point.\n",
    "\n",
    "The KDTree() method returns a KDTree object.\n",
    "\n",
    "The query() method returns the distance to the nearest neighbor and the location of the neighbors."
   ]
  },
  {
   "cell_type": "code",
   "execution_count": 76,
   "id": "0d06c97d",
   "metadata": {},
   "outputs": [
    {
     "name": "stdout",
     "output_type": "stream",
     "text": [
      "(2.0, 0)\n"
     ]
    }
   ],
   "source": [
    "#Find the nearest neighbor to point (1,1):\n",
    "from scipy.spatial import KDTree\n",
    "\n",
    "points = [(1, -1), (2, 3), (-2, 3), (2, -3)]\n",
    "\n",
    "kdtree = KDTree(points)\n",
    "\n",
    "res = kdtree.query((1, 1))\n",
    "\n",
    "print(res)"
   ]
  },
  {
   "cell_type": "markdown",
   "id": "4830c6d9",
   "metadata": {},
   "source": [
    "# Distance Matrix\n",
    "There are many Distance Metrics used to find various types of distances between two points in data science, Euclidean distsance, cosine distsance etc.\n",
    "\n",
    "The distance between two vectors may not only be the length of straight line between them, it can also be the angle between them from origin, or number of unit steps required etc.\n",
    "\n",
    "Many of the Machine Learning algorithm's performance depends greatly on distance metrices. E.g. \"K Nearest Neighbors\", or \"K Means\" etc.\n",
    "\n",
    "Let us look at some of the Distance Metrices:\n",
    "\n"
   ]
  },
  {
   "cell_type": "markdown",
   "id": "2ba2b899",
   "metadata": {},
   "source": [
    "# Euclidean Distance\n",
    "Find the euclidean distance between given points."
   ]
  },
  {
   "cell_type": "code",
   "execution_count": 78,
   "id": "1bcd13cf",
   "metadata": {},
   "outputs": [
    {
     "name": "stdout",
     "output_type": "stream",
     "text": [
      "9.219544457292887\n"
     ]
    }
   ],
   "source": [
    "from scipy.spatial.distance import euclidean\n",
    "\n",
    "p1 = (1, 0)\n",
    "p2 = (10, 2)\n",
    "\n",
    "res = euclidean(p1, p2)\n",
    "\n",
    "print(res)"
   ]
  },
  {
   "cell_type": "markdown",
   "id": "1b9b0214",
   "metadata": {},
   "source": [
    "# Manhattan Distance"
   ]
  },
  {
   "cell_type": "code",
   "execution_count": 79,
   "id": "03b224f2",
   "metadata": {},
   "outputs": [
    {
     "name": "stdout",
     "output_type": "stream",
     "text": [
      "11\n"
     ]
    }
   ],
   "source": [
    "from scipy.spatial.distance import cityblock\n",
    "\n",
    "p1 = (1, 0)\n",
    "p2 = (10, 2)\n",
    "\n",
    "res = cityblock(p1, p2)\n",
    "\n",
    "print(res)"
   ]
  },
  {
   "cell_type": "markdown",
   "id": "670fc97f",
   "metadata": {},
   "source": [
    "# Cosine Distance\n",
    "Is the value of cosine angle between the two points A and B."
   ]
  },
  {
   "cell_type": "code",
   "execution_count": 80,
   "id": "f9acb20d",
   "metadata": {},
   "outputs": [
    {
     "name": "stdout",
     "output_type": "stream",
     "text": [
      "0.019419324309079777\n"
     ]
    }
   ],
   "source": [
    "from scipy.spatial.distance import cosine\n",
    "\n",
    "p1 = (1, 0)\n",
    "p2 = (10, 2)\n",
    "\n",
    "res = cosine(p1, p2)\n",
    "\n",
    "print(res)"
   ]
  },
  {
   "cell_type": "markdown",
   "id": "8b6b9cbe",
   "metadata": {},
   "source": [
    "# Hamming Distance\n",
    "Is the proportion of bits where two bits are different.\n",
    "\n",
    "It's a way to measure distance for binary sequences."
   ]
  },
  {
   "cell_type": "code",
   "execution_count": 81,
   "id": "b948c4b6",
   "metadata": {},
   "outputs": [
    {
     "name": "stdout",
     "output_type": "stream",
     "text": [
      "0.6666666666666666\n"
     ]
    }
   ],
   "source": [
    "from scipy.spatial.distance import hamming\n",
    "\n",
    "p1 = (True, False, True)\n",
    "p2 = (False, True, True)\n",
    "\n",
    "res = hamming(p1, p2)\n",
    "\n",
    "print(res)"
   ]
  },
  {
   "cell_type": "code",
   "execution_count": 82,
   "id": "9b387b94",
   "metadata": {},
   "outputs": [],
   "source": [
    "# HERE YOU CAN ADD MATLAB ARRAY "
   ]
  },
  {
   "cell_type": "code",
   "execution_count": null,
   "id": "e10bd1be",
   "metadata": {},
   "outputs": [],
   "source": []
  },
  {
   "cell_type": "code",
   "execution_count": null,
   "id": "6eb7292f",
   "metadata": {},
   "outputs": [],
   "source": []
  },
  {
   "cell_type": "code",
   "execution_count": null,
   "id": "6db6439d",
   "metadata": {},
   "outputs": [],
   "source": []
  },
  {
   "cell_type": "code",
   "execution_count": null,
   "id": "b96fa1d5",
   "metadata": {},
   "outputs": [],
   "source": []
  },
  {
   "cell_type": "markdown",
   "id": "e0fc7c89",
   "metadata": {},
   "source": [
    "# SciPy Interpolation\n",
    "What is Interpolation?\n",
    "Interpolation is a method for generating points between given points.\n",
    "\n",
    "For example: for points 1 and 2, we may interpolate and find points 1.33 and 1.66.\n",
    "\n",
    "Interpolation has many usage, in Machine Learning we often deal with missing data in a dataset, interpolation is often used to substitute those values.\n",
    "\n",
    "This method of filling values is called imputation.\n",
    "\n",
    "Apart from imputation, interpolation is often used where we need to smooth the discrete points in a dataset.\n",
    "\n"
   ]
  },
  {
   "cell_type": "markdown",
   "id": "0cdc42b2",
   "metadata": {},
   "source": [
    "### How to Implement it in SciPy?\n",
    "SciPy provides us with a module called scipy.interpolate which has many functions to deal with interpolation:\n",
    "\n"
   ]
  },
  {
   "cell_type": "markdown",
   "id": "fc64f12d",
   "metadata": {},
   "source": [
    "## 1D Interpolation\n",
    "The function interp1d() is used to interpolate a distribution with 1 variable.\n",
    "\n",
    "It takes x and y points and returns a callable function that can be called with new x and returns corresponding y."
   ]
  },
  {
   "cell_type": "code",
   "execution_count": 85,
   "id": "007ee3b9",
   "metadata": {},
   "outputs": [
    {
     "name": "stdout",
     "output_type": "stream",
     "text": [
      "[7.3 7.6 7.9 8.2 8.5 8.8 9.1 9.4 9.7]\n"
     ]
    }
   ],
   "source": [
    "#For given xs and ys interpolate values from 2.1, 2.2... to 2.9:\n",
    "\n",
    "from scipy.interpolate import interp1d\n",
    "import numpy as np\n",
    "\n",
    "xs = np.arange(10)\n",
    "ys = 3*xs + 1\n",
    "\n",
    "interp_func = interp1d(xs, ys) # this is the interpolation fn here defiined \n",
    "\n",
    "newarr = interp_func(np.arange(2.1, 3, 0.1))\n",
    "print(newarr)"
   ]
  },
  {
   "cell_type": "markdown",
   "id": "d1ab5227",
   "metadata": {},
   "source": [
    "# Spline Interpolation\n",
    "In 1D interpolation the points are fitted for a single curve whereas in Spline interpolation the points are fitted against a piecewise function defined with polynomials called splines.\n",
    "\n",
    "The UnivariateSpline() function takes xs and ys and produce a callable funciton that can be called with new xs."
   ]
  },
  {
   "cell_type": "code",
   "execution_count": 86,
   "id": "9c6a1dd5",
   "metadata": {},
   "outputs": [
    {
     "data": {
      "text/plain": [
       "['LowLevelCallable',\n",
       " '__version__',\n",
       " 'cluster',\n",
       " 'constants',\n",
       " 'datasets',\n",
       " 'fft',\n",
       " 'fftpack',\n",
       " 'integrate',\n",
       " 'interpolate',\n",
       " 'io',\n",
       " 'linalg',\n",
       " 'misc',\n",
       " 'ndimage',\n",
       " 'odr',\n",
       " 'optimize',\n",
       " 'show_config',\n",
       " 'signal',\n",
       " 'sparse',\n",
       " 'spatial',\n",
       " 'special',\n",
       " 'stats',\n",
       " 'test']"
      ]
     },
     "execution_count": 86,
     "metadata": {},
     "output_type": "execute_result"
    }
   ],
   "source": [
    "dir(scipy)"
   ]
  },
  {
   "cell_type": "code",
   "execution_count": 89,
   "id": "72ffc6e8",
   "metadata": {},
   "outputs": [
    {
     "name": "stdout",
     "output_type": "stream",
     "text": [
      "['__doc__', '__loader__', '__name__', '__package__', '__spec__', 'acos', 'acosh', 'asin', 'asinh', 'atan', 'atan2', 'atanh', 'ceil', 'comb', 'copysign', 'cos', 'cosh', 'degrees', 'dist', 'e', 'erf', 'erfc', 'exp', 'expm1', 'fabs', 'factorial', 'floor', 'fmod', 'frexp', 'fsum', 'gamma', 'gcd', 'hypot', 'inf', 'isclose', 'isfinite', 'isinf', 'isnan', 'isqrt', 'lcm', 'ldexp', 'lgamma', 'log', 'log10', 'log1p', 'log2', 'modf', 'nan', 'nextafter', 'perm', 'pi', 'pow', 'prod', 'radians', 'remainder', 'sin', 'sinh', 'sqrt', 'tan', 'tanh', 'tau', 'trunc', 'ulp']\n"
     ]
    }
   ],
   "source": [
    "import math\n",
    "print(dir(math))"
   ]
  },
  {
   "cell_type": "code",
   "execution_count": 92,
   "id": "f5817735",
   "metadata": {},
   "outputs": [
    {
     "name": "stdout",
     "output_type": "stream",
     "text": [
      "['Counter', 'Decimal', 'Fraction', 'NormalDist', 'StatisticsError', '__all__', '__builtins__', '__cached__', '__doc__', '__file__', '__loader__', '__name__', '__package__', '__spec__', '_coerce', '_convert', '_exact_ratio', '_fail_neg', '_find_lteq', '_find_rteq', '_isfinite', '_normal_dist_inv_cdf', '_ss', '_sum', 'bisect_left', 'bisect_right', 'erf', 'exp', 'fabs', 'fmean', 'fsum', 'geometric_mean', 'groupby', 'harmonic_mean', 'hypot', 'itemgetter', 'log', 'math', 'mean', 'median', 'median_grouped', 'median_high', 'median_low', 'mode', 'multimode', 'numbers', 'pstdev', 'pvariance', 'quantiles', 'random', 'sqrt', 'stdev', 'tau', 'variance']\n"
     ]
    }
   ],
   "source": [
    "import statistics\n",
    "print(dir(statistics))"
   ]
  },
  {
   "cell_type": "markdown",
   "id": "079a52f6",
   "metadata": {},
   "source": [
    "# Spline Interpolation\n",
    "In 1D interpolation the points are fitted for a single curve whereas in Spline interpolation the points are fitted against a piecewise function defined with polynomials called splines.\n",
    "\n",
    "The UnivariateSpline() function takes xs and ys and produce a callable funciton that can be called with new xs.\n",
    "\n"
   ]
  },
  {
   "cell_type": "code",
   "execution_count": null,
   "id": "e254086b",
   "metadata": {},
   "outputs": [],
   "source": []
  },
  {
   "cell_type": "code",
   "execution_count": null,
   "id": "c5e5b65b",
   "metadata": {},
   "outputs": [],
   "source": []
  }
 ],
 "metadata": {
  "kernelspec": {
   "display_name": "Python 3 (ipykernel)",
   "language": "python",
   "name": "python3"
  },
  "language_info": {
   "codemirror_mode": {
    "name": "ipython",
    "version": 3
   },
   "file_extension": ".py",
   "mimetype": "text/x-python",
   "name": "python",
   "nbconvert_exporter": "python",
   "pygments_lexer": "ipython3",
   "version": "3.9.12"
  }
 },
 "nbformat": 4,
 "nbformat_minor": 5
}
