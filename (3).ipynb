{
 "cells": [
  {
   "cell_type": "code",
   "execution_count": 2,
   "id": "30d87e3d",
   "metadata": {},
   "outputs": [
    {
     "name": "stdout",
     "output_type": "stream",
     "text": [
      "Requirement already satisfied: numpy in c:\\users\\dell\\anaconda3\\lib\\site-packages (1.20.3)\n",
      "Note: you may need to restart the kernel to use updated packages.\n"
     ]
    }
   ],
   "source": [
    "pip install numpy"
   ]
  },
  {
   "cell_type": "code",
   "execution_count": 1,
   "id": "27be37d1",
   "metadata": {},
   "outputs": [],
   "source": [
    "import numpy as kl"
   ]
  },
  {
   "cell_type": "code",
   "execution_count": 14,
   "id": "75bd09a9",
   "metadata": {},
   "outputs": [],
   "source": [
    "ml=[1,3,1,2,4,5,8,9,5,5,-3,4,6,7,1]"
   ]
  },
  {
   "cell_type": "code",
   "execution_count": 15,
   "id": "b075d097",
   "metadata": {},
   "outputs": [],
   "source": [
    "slk=kl.array(ml)"
   ]
  },
  {
   "cell_type": "code",
   "execution_count": 10,
   "id": "2867d90b",
   "metadata": {},
   "outputs": [
    {
     "name": "stdout",
     "output_type": "stream",
     "text": [
      "[1 3 1 2 4 5 8 9 5 5 3 4 6 7]\n"
     ]
    }
   ],
   "source": [
    "print(slk)"
   ]
  },
  {
   "cell_type": "code",
   "execution_count": 11,
   "id": "ea514318",
   "metadata": {},
   "outputs": [
    {
     "data": {
      "text/plain": [
       "numpy.ndarray"
      ]
     },
     "execution_count": 11,
     "metadata": {},
     "output_type": "execute_result"
    }
   ],
   "source": [
    "type(slk)"
   ]
  },
  {
   "cell_type": "markdown",
   "id": "5fd356f4",
   "metadata": {},
   "source": [
    "### slk"
   ]
  },
  {
   "cell_type": "code",
   "execution_count": 13,
   "id": "528d9968",
   "metadata": {},
   "outputs": [
    {
     "data": {
      "text/plain": [
       "(14,)"
      ]
     },
     "execution_count": 13,
     "metadata": {},
     "output_type": "execute_result"
    }
   ],
   "source": [
    "kl.shape(slk)"
   ]
  },
  {
   "cell_type": "code",
   "execution_count": 15,
   "id": "bad3335f",
   "metadata": {},
   "outputs": [
    {
     "data": {
      "text/plain": [
       "array([[1, 3],\n",
       "       [1, 2],\n",
       "       [4, 5],\n",
       "       [8, 9],\n",
       "       [5, 5],\n",
       "       [3, 4],\n",
       "       [6, 7]])"
      ]
     },
     "execution_count": 15,
     "metadata": {},
     "output_type": "execute_result"
    }
   ],
   "source": [
    "slk.reshape(7,2)"
   ]
  },
  {
   "cell_type": "code",
   "execution_count": 8,
   "id": "a0662ad9",
   "metadata": {},
   "outputs": [
    {
     "data": {
      "text/plain": [
       "array([1, 3, 1, 2, 4, 5, 8, 9, 5, 5, 3, 4, 6, 7])"
      ]
     },
     "execution_count": 8,
     "metadata": {},
     "output_type": "execute_result"
    }
   ],
   "source": [
    "kl.absolute(slk)"
   ]
  },
  {
   "cell_type": "code",
   "execution_count": 12,
   "id": "318e00c9",
   "metadata": {},
   "outputs": [
    {
     "ename": "TypeError",
     "evalue": "array() takes from 1 to 2 positional arguments but 15 were given",
     "output_type": "error",
     "traceback": [
      "\u001b[1;31m---------------------------------------------------------------------------\u001b[0m",
      "\u001b[1;31mTypeError\u001b[0m                                 Traceback (most recent call last)",
      "\u001b[1;32m~\\AppData\\Local\\Temp/ipykernel_2844/2436782468.py\u001b[0m in \u001b[0;36m<module>\u001b[1;34m\u001b[0m\n\u001b[1;32m----> 1\u001b[1;33m \u001b[0mslk\u001b[0m\u001b[1;33m=\u001b[0m\u001b[0mkl\u001b[0m\u001b[1;33m.\u001b[0m\u001b[0marray\u001b[0m\u001b[1;33m(\u001b[0m\u001b[1;36m1\u001b[0m\u001b[1;33m,\u001b[0m\u001b[1;36m3\u001b[0m\u001b[1;33m,\u001b[0m\u001b[1;36m1\u001b[0m\u001b[1;33m,\u001b[0m\u001b[1;36m2\u001b[0m\u001b[1;33m,\u001b[0m\u001b[1;36m4\u001b[0m\u001b[1;33m,\u001b[0m\u001b[1;36m5\u001b[0m\u001b[1;33m,\u001b[0m\u001b[1;36m8\u001b[0m\u001b[1;33m,\u001b[0m\u001b[1;36m9\u001b[0m\u001b[1;33m,\u001b[0m\u001b[1;36m5\u001b[0m\u001b[1;33m,\u001b[0m\u001b[1;36m5\u001b[0m\u001b[1;33m,\u001b[0m\u001b[1;33m-\u001b[0m\u001b[1;36m3\u001b[0m\u001b[1;33m,\u001b[0m\u001b[1;36m4\u001b[0m\u001b[1;33m,\u001b[0m\u001b[1;36m6\u001b[0m\u001b[1;33m,\u001b[0m\u001b[1;36m7\u001b[0m\u001b[1;33m,\u001b[0m\u001b[1;36m2\u001b[0m\u001b[1;33m)\u001b[0m\u001b[1;33m\u001b[0m\u001b[1;33m\u001b[0m\u001b[0m\n\u001b[0m",
      "\u001b[1;31mTypeError\u001b[0m: array() takes from 1 to 2 positional arguments but 15 were given"
     ]
    }
   ],
   "source": [
    "slk=kl.array(1,3,1,2,4,5,8,9,5,5,-3,4,6,7,2)"
   ]
  },
  {
   "cell_type": "code",
   "execution_count": 16,
   "id": "108b8723",
   "metadata": {},
   "outputs": [
    {
     "data": {
      "text/plain": [
       "array([ 1,  3,  1,  2,  4,  5,  8,  9,  5,  5, -3,  4,  6,  7,  1])"
      ]
     },
     "execution_count": 16,
     "metadata": {},
     "output_type": "execute_result"
    }
   ],
   "source": [
    "slk"
   ]
  },
  {
   "cell_type": "code",
   "execution_count": 22,
   "id": "1617a180",
   "metadata": {},
   "outputs": [],
   "source": [
    "s=slk.reshape(5,3)"
   ]
  },
  {
   "cell_type": "code",
   "execution_count": 23,
   "id": "4a62209c",
   "metadata": {},
   "outputs": [
    {
     "data": {
      "text/plain": [
       "array([[ 4,  5],\n",
       "       [ 9,  5],\n",
       "       [-3,  4],\n",
       "       [ 7,  1]])"
      ]
     },
     "execution_count": 23,
     "metadata": {},
     "output_type": "execute_result"
    }
   ],
   "source": [
    "s[1:,1:]"
   ]
  },
  {
   "cell_type": "code",
   "execution_count": 24,
   "id": "6750f2c6",
   "metadata": {},
   "outputs": [],
   "source": [
    "y=s.copy()"
   ]
  },
  {
   "cell_type": "code",
   "execution_count": 25,
   "id": "04759670",
   "metadata": {},
   "outputs": [
    {
     "data": {
      "text/plain": [
       "array([[ 1,  3,  1],\n",
       "       [ 2,  4,  5],\n",
       "       [ 8,  9,  5],\n",
       "       [ 5, -3,  4],\n",
       "       [ 6,  7,  1]])"
      ]
     },
     "execution_count": 25,
     "metadata": {},
     "output_type": "execute_result"
    }
   ],
   "source": [
    "y"
   ]
  },
  {
   "cell_type": "code",
   "execution_count": null,
   "id": "8f33eec6",
   "metadata": {},
   "outputs": [],
   "source": [
    " "
   ]
  }
 ],
 "metadata": {
  "kernelspec": {
   "display_name": "Python 3 (ipykernel)",
   "language": "python",
   "name": "python3"
  },
  "language_info": {
   "codemirror_mode": {
    "name": "ipython",
    "version": 3
   },
   "file_extension": ".py",
   "mimetype": "text/x-python",
   "name": "python",
   "nbconvert_exporter": "python",
   "pygments_lexer": "ipython3",
   "version": "3.9.12"
  }
 },
 "nbformat": 4,
 "nbformat_minor": 5
}
