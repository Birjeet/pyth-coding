{
 "cells": [
  {
   "cell_type": "markdown",
   "id": "0eca2b4b",
   "metadata": {},
   "source": [
    "# Python Iterators\n",
    "- An iterator is an object that contains a countable number of values.\n",
    "\n",
    "- An iterator is an object that can be iterated upon, meaning that you can traverse through all the values.\n",
    "\n",
    "- Technically, in Python, an iterator is an object which implements the iterator protocol, which consist of the methods  __iter__() and __next__().\n",
    "\n"
   ]
  },
  {
   "cell_type": "markdown",
   "id": "27e6c683",
   "metadata": {},
   "source": [
    "# Iterator vs Iterable\n",
    "## Lists, tuples, dictionaries, and sets are all iterable objects. They are iterable containers which you can get an iterator from.\n",
    "\n",
    "## All these objects have a iter() method which is used to get an iterator:\n"
   ]
  },
  {
   "cell_type": "code",
   "execution_count": null,
   "id": "656bd76f",
   "metadata": {},
   "outputs": [],
   "source": [
    "#Return an iterator from a tuple, and print each value:\n",
    "\n",
    "mytuple = (\"apple\", \"banana\", \"cherry\")\n",
    "myit = iter(mytuple)\n",
    "\n",
    "print(next(myit))\n",
    "print(next(myit))\n",
    "print(next(myit))"
   ]
  },
  {
   "cell_type": "code",
   "execution_count": null,
   "id": "602abec1",
   "metadata": {},
   "outputs": [],
   "source": [
    "#Even strings are iterable objects, and can return an iterator:\n",
    "#Strings are also iterable objects, containing a sequence of characters:\n",
    "\n",
    "mystr = \"banana\"\n",
    "myit = iter(mystr)\n",
    "\n",
    "print(next(myit))\n",
    "print(next(myit))\n",
    "print(next(myit))\n",
    "print(next(myit))\n",
    "print(next(myit))\n",
    "print(next(myit))"
   ]
  },
  {
   "cell_type": "markdown",
   "id": "fd90263b",
   "metadata": {},
   "source": [
    "# For loop is a classic iterator example"
   ]
  },
  {
   "cell_type": "markdown",
   "id": "20368f17",
   "metadata": {},
   "source": [
    "# Create an Iterator\n",
    "## To create an object/class as an iterator you have to implement the methods __iter__() and __next__() to your object.\n",
    "\n",
    "## As you have learned in the Python Classes/Objects chapter, all classes have a function called __init__(), which allows you to do some initializing when the object is being created.\n",
    "\n",
    "## The __iter__() method acts similar, you can do operations (initializing etc.), but must always return the iterator object itself.\n",
    "\n",
    "## The __next__() method also allows you to do operations, and must return the next item in the sequence."
   ]
  },
  {
   "cell_type": "code",
   "execution_count": 1,
   "id": "286ac13e",
   "metadata": {},
   "outputs": [
    {
     "name": "stdout",
     "output_type": "stream",
     "text": [
      "1\n",
      "2\n",
      "3\n",
      "4\n",
      "5\n"
     ]
    }
   ],
   "source": [
    "#Create an iterator that returns numbers, starting with 1, and each sequence will increase by one (returning 1,2,3,4,5 etc.):\n",
    "\n",
    "class MyNumbers:\n",
    "  def __iter__(self):\n",
    "    self.a = 1\n",
    "    return self\n",
    "\n",
    "  def __next__(self):\n",
    "    x = self.a\n",
    "    self.a += 1\n",
    "    return x\n",
    "\n",
    "myclass = MyNumbers()\n",
    "myiter = iter(myclass)\n",
    "\n",
    "print(next(myiter))\n",
    "print(next(myiter))\n",
    "print(next(myiter))\n",
    "print(next(myiter))\n",
    "print(next(myiter))"
   ]
  },
  {
   "cell_type": "code",
   "execution_count": 2,
   "id": "be4c4497",
   "metadata": {},
   "outputs": [
    {
     "name": "stdout",
     "output_type": "stream",
     "text": [
      "6\n",
      "7\n",
      "8\n",
      "9\n",
      "10\n"
     ]
    }
   ],
   "source": [
    "print(next(myiter))\n",
    "print(next(myiter))\n",
    "print(next(myiter))\n",
    "print(next(myiter))\n",
    "print(next(myiter))"
   ]
  },
  {
   "cell_type": "markdown",
   "id": "059d283c",
   "metadata": {},
   "source": [
    "# StopIteration"
   ]
  },
  {
   "cell_type": "code",
   "execution_count": null,
   "id": "af33cf9f",
   "metadata": {},
   "outputs": [],
   "source": [
    "#Stop after 20 iterations:\n",
    "\n",
    "class MyNumbers:\n",
    "  def __iter__(self):\n",
    "    self.a = 1\n",
    "    return self\n",
    "\n",
    "  def __next__(self):\n",
    "    if self.a <= 20:\n",
    "      x = self.a\n",
    "      self.a += 1\n",
    "      return x\n",
    "    else:\n",
    "      raise StopIteration\n",
    "\n",
    "myclass = MyNumbers()\n",
    "myiter = iter(myclass)\n",
    "\n",
    "for x in myiter:\n",
    "  print(x)\n"
   ]
  },
  {
   "cell_type": "code",
   "execution_count": null,
   "id": "aa4d7bd9",
   "metadata": {},
   "outputs": [],
   "source": []
  },
  {
   "cell_type": "code",
   "execution_count": null,
   "id": "7a81c48d",
   "metadata": {},
   "outputs": [],
   "source": []
  },
  {
   "cell_type": "code",
   "execution_count": null,
   "id": "a2e16aec",
   "metadata": {},
   "outputs": [],
   "source": []
  },
  {
   "cell_type": "code",
   "execution_count": null,
   "id": "d22d9639",
   "metadata": {},
   "outputs": [],
   "source": []
  },
  {
   "cell_type": "code",
   "execution_count": null,
   "id": "1b34411a",
   "metadata": {},
   "outputs": [],
   "source": []
  },
  {
   "cell_type": "code",
   "execution_count": null,
   "id": "7c318931",
   "metadata": {},
   "outputs": [],
   "source": []
  },
  {
   "cell_type": "code",
   "execution_count": null,
   "id": "f97ff759",
   "metadata": {},
   "outputs": [],
   "source": []
  }
 ],
 "metadata": {
  "kernelspec": {
   "display_name": "Python 3 (ipykernel)",
   "language": "python",
   "name": "python3"
  },
  "language_info": {
   "codemirror_mode": {
    "name": "ipython",
    "version": 3
   },
   "file_extension": ".py",
   "mimetype": "text/x-python",
   "name": "python",
   "nbconvert_exporter": "python",
   "pygments_lexer": "ipython3",
   "version": "3.9.12"
  }
 },
 "nbformat": 4,
 "nbformat_minor": 5
}
