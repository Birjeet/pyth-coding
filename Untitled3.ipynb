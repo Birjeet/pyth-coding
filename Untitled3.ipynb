{
 "cells": [
  {
   "cell_type": "code",
   "execution_count": 4,
   "id": "9055247b",
   "metadata": {},
   "outputs": [],
   "source": [
    "str=\"werfbhby\""
   ]
  },
  {
   "cell_type": "code",
   "execution_count": 7,
   "id": "42a7a851",
   "metadata": {},
   "outputs": [
    {
     "data": {
      "text/plain": [
       "'Werfbhby'"
      ]
     },
     "execution_count": 7,
     "metadata": {},
     "output_type": "execute_result"
    }
   ],
   "source": [
    "str.title()"
   ]
  },
  {
   "cell_type": "code",
   "execution_count": 8,
   "id": "b2149f55",
   "metadata": {},
   "outputs": [
    {
     "data": {
      "text/plain": [
       "tuple"
      ]
     },
     "execution_count": 8,
     "metadata": {},
     "output_type": "execute_result"
    }
   ],
   "source": [
    "type(())"
   ]
  },
  {
   "cell_type": "code",
   "execution_count": 14,
   "id": "8afcc3b9",
   "metadata": {},
   "outputs": [],
   "source": [
    "list1={\"sole\",\"man\", \"king\"}"
   ]
  },
  {
   "cell_type": "code",
   "execution_count": 13,
   "id": "5f2155dc",
   "metadata": {},
   "outputs": [
    {
     "ename": "SyntaxError",
     "evalue": "invalid syntax (177645348.py, line 1)",
     "output_type": "error",
     "traceback": [
      "\u001b[1;36m  Input \u001b[1;32mIn [13]\u001b[1;36m\u001b[0m\n\u001b[1;33m    p=[1:5]\u001b[0m\n\u001b[1;37m        ^\u001b[0m\n\u001b[1;31mSyntaxError\u001b[0m\u001b[1;31m:\u001b[0m invalid syntax\n"
     ]
    }
   ],
   "source": [
    "[1:5]"
   ]
  },
  {
   "cell_type": "code",
   "execution_count": 16,
   "id": "17aa2b13",
   "metadata": {},
   "outputs": [
    {
     "data": {
      "text/plain": [
       "set"
      ]
     },
     "execution_count": 16,
     "metadata": {},
     "output_type": "execute_result"
    }
   ],
   "source": [
    "type(list1)"
   ]
  },
  {
   "cell_type": "code",
   "execution_count": 15,
   "id": "f5686a8f",
   "metadata": {},
   "outputs": [
    {
     "data": {
      "text/plain": [
       "{'king', 'man', 'sole'}"
      ]
     },
     "execution_count": 15,
     "metadata": {},
     "output_type": "execute_result"
    }
   ],
   "source": [
    "list1"
   ]
  },
  {
   "cell_type": "code",
   "execution_count": 18,
   "id": "b73bdc31",
   "metadata": {},
   "outputs": [],
   "source": [
    "list2={\"sole\":\"angeel\",\"man\": \"king\"}"
   ]
  },
  {
   "cell_type": "code",
   "execution_count": 19,
   "id": "05542c37",
   "metadata": {},
   "outputs": [
    {
     "data": {
      "text/plain": [
       "dict"
      ]
     },
     "execution_count": 19,
     "metadata": {},
     "output_type": "execute_result"
    }
   ],
   "source": [
    "type(list2)"
   ]
  },
  {
   "cell_type": "code",
   "execution_count": 26,
   "id": "a7f4d370",
   "metadata": {},
   "outputs": [
    {
     "data": {
      "text/plain": [
       "<function dict.values>"
      ]
     },
     "execution_count": 26,
     "metadata": {},
     "output_type": "execute_result"
    }
   ],
   "source": [
    "list2.values"
   ]
  },
  {
   "cell_type": "code",
   "execution_count": 43,
   "id": "2d75160a",
   "metadata": {},
   "outputs": [
    {
     "name": "stdout",
     "output_type": "stream",
     "text": [
      "sole\n",
      "man\n"
     ]
    }
   ],
   "source": [
    "for x in list2.keys():\n",
    " print(x)"
   ]
  },
  {
   "cell_type": "code",
   "execution_count": 45,
   "id": "2b7da4d9",
   "metadata": {},
   "outputs": [
    {
     "name": "stdout",
     "output_type": "stream",
     "text": [
      "sole\n",
      "man\n"
     ]
    }
   ],
   "source": [
    "for x in list2:\n",
    " print(x)"
   ]
  }
 ],
 "metadata": {
  "kernelspec": {
   "display_name": "Python 3 (ipykernel)",
   "language": "python",
   "name": "python3"
  },
  "language_info": {
   "codemirror_mode": {
    "name": "ipython",
    "version": 3
   },
   "file_extension": ".py",
   "mimetype": "text/x-python",
   "name": "python",
   "nbconvert_exporter": "python",
   "pygments_lexer": "ipython3",
   "version": "3.9.12"
  }
 },
 "nbformat": 4,
 "nbformat_minor": 5
}
