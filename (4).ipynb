{
 "cells": [
  {
   "cell_type": "code",
   "execution_count": 8,
   "id": "63361a6f",
   "metadata": {},
   "outputs": [],
   "source": [
    "import pandas as  pd\n",
    "import numpy as np"
   ]
  },
  {
   "cell_type": "code",
   "execution_count": 17,
   "id": "eff052b5",
   "metadata": {},
   "outputs": [],
   "source": [
    "df=pd.DataFrame(np.arange(0,40,2).reshape(5,4), index=['1','2','3','4','5'],columns=['1','2','3','4'], )"
   ]
  },
  {
   "cell_type": "code",
   "execution_count": 19,
   "id": "08a23a22",
   "metadata": {},
   "outputs": [],
   "source": [
    "df.to_csv('Test1.csv')"
   ]
  },
  {
   "cell_type": "code",
   "execution_count": 23,
   "id": "09521ffb",
   "metadata": {},
   "outputs": [
    {
     "data": {
      "text/plain": [
       "1   2   3   4 \n",
       "0   2   4   6     1\n",
       "8   10  12  14    1\n",
       "16  18  20  22    1\n",
       "24  26  28  30    1\n",
       "32  34  36  38    1\n",
       "dtype: int64"
      ]
     },
     "execution_count": 23,
     "metadata": {},
     "output_type": "execute_result"
    }
   ],
   "source": [
    "df.value_counts()"
   ]
  },
  {
   "cell_type": "code",
   "execution_count": null,
   "id": "a25ccb2b",
   "metadata": {},
   "outputs": [],
   "source": []
  }
 ],
 "metadata": {
  "kernelspec": {
   "display_name": "Python 3 (ipykernel)",
   "language": "python",
   "name": "python3"
  },
  "language_info": {
   "codemirror_mode": {
    "name": "ipython",
    "version": 3
   },
   "file_extension": ".py",
   "mimetype": "text/x-python",
   "name": "python",
   "nbconvert_exporter": "python",
   "pygments_lexer": "ipython3",
   "version": "3.9.12"
  }
 },
 "nbformat": 4,
 "nbformat_minor": 5
}
