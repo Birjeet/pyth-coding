{
 "cells": [
  {
   "cell_type": "markdown",
   "id": "7081f6ea",
   "metadata": {},
   "source": [
    "# Python Classes/Objects\n",
    "## Python is an object oriented programming language.\n",
    "\n",
    "## Almost everything in Python is an object, with its properties and methods.\n",
    "\n",
    "## A Class is like an object constructor, or a \"blueprint\" for creating objects."
   ]
  },
  {
   "cell_type": "code",
   "execution_count": 1,
   "id": "825c3006",
   "metadata": {},
   "outputs": [],
   "source": [
    "class MyClass:\n",
    "  x = 5"
   ]
  },
  {
   "cell_type": "code",
   "execution_count": 3,
   "id": "ca83e3a1",
   "metadata": {},
   "outputs": [
    {
     "name": "stdout",
     "output_type": "stream",
     "text": [
      "5\n"
     ]
    }
   ],
   "source": [
    "p1 = MyClass()\n",
    "print(p1.x)"
   ]
  },
  {
   "cell_type": "code",
   "execution_count": 4,
   "id": "26c8575e",
   "metadata": {},
   "outputs": [
    {
     "data": {
      "text/plain": [
       "__main__.MyClass"
      ]
     },
     "execution_count": 4,
     "metadata": {},
     "output_type": "execute_result"
    }
   ],
   "source": [
    "type(p1)"
   ]
  },
  {
   "cell_type": "markdown",
   "id": "c9f195b8",
   "metadata": {},
   "source": [
    "# The \"__init__() \"Function\n",
    "## The examples above are classes and objects in their simplest form, and are not really useful in real life applications.\n",
    "\n",
    "## To understand the meaning of classes we have to understand the built-in __init__() function.\n",
    "\n",
    "## All classes have a function called __init__(), which is always executed when the class is being initiated.\n",
    "\n",
    "## Use the __init__() function to assign values to object properties, or other operations that are necessary to do when the object is being created:\n",
    "\n"
   ]
  },
  {
   "cell_type": "code",
   "execution_count": 3,
   "id": "242a7fcc",
   "metadata": {},
   "outputs": [
    {
     "name": "stdout",
     "output_type": "stream",
     "text": [
      "John\n",
      "36\n"
     ]
    }
   ],
   "source": [
    "class Person:\n",
    "  def __init__(self, name, age):\n",
    "    self.nam = name      # self parameter is inbuiilt can be used to initialized the object \n",
    "    self.ag = age\n",
    "\n",
    "p1 = Person(\"John\", 36)\n",
    "\n",
    "print(p1.nam)\n",
    "print(p1.ag)"
   ]
  },
  {
   "cell_type": "code",
   "execution_count": 10,
   "id": "42be51b5",
   "metadata": {},
   "outputs": [
    {
     "name": "stdout",
     "output_type": "stream",
     "text": [
      "my name is John\n",
      "None\n",
      "John\n",
      "36\n"
     ]
    }
   ],
   "source": [
    "class Person:\n",
    "  def __init__(self, name, age):\n",
    "    self.nam = name\n",
    "    self.ag = age\n",
    "  def details(self):\n",
    "    print( \"my name is \"+ self.nam )  # details is not a inbuilt fn ....\n",
    "   \n",
    "\n",
    "p1 = Person(\"John\", 36)\n",
    "print(p1.details())\n",
    "\n",
    "print(p1.nam)\n",
    "print(p1.ag)"
   ]
  },
  {
   "cell_type": "markdown",
   "id": "fa2b277e",
   "metadata": {},
   "source": [
    "# The __str__() Function\n",
    "## The __str__() function controls what should be returned when the class object is represented as a string.\n",
    "\n",
    "## If the __str__() function is not set, the string representation of the object is returned:"
   ]
  },
  {
   "cell_type": "code",
   "execution_count": null,
   "id": "287fc66d",
   "metadata": {},
   "outputs": [],
   "source": [
    "# The string representation of an object WITHOUT the __str__() function:\n",
    "\n",
    "class Person:\n",
    "  def __init__(self, name, age):\n",
    "    self.name = name     # \n",
    "    self.age = age\n",
    "\n",
    "p1 = Person(\"John\", 36)\n",
    "\n",
    "print(p1)"
   ]
  },
  {
   "cell_type": "code",
   "execution_count": 12,
   "id": "dc5cb818",
   "metadata": {},
   "outputs": [
    {
     "name": "stdout",
     "output_type": "stream",
     "text": [
      "John(36)\n"
     ]
    }
   ],
   "source": [
    "#The string representation of an object WITH the __str__() function:\n",
    "\n",
    "class Person:\n",
    "  def __init__(self, name, age):\n",
    "    self.name = name\n",
    "    self.age = age\n",
    "\n",
    "  def __str__(self):\n",
    "    return f\"{self.name}({self.age})\"\n",
    "\n",
    "p1 = Person(\"John\", 36)\n",
    "\n",
    "print(p1)"
   ]
  },
  {
   "cell_type": "code",
   "execution_count": 19,
   "id": "a13ac152",
   "metadata": {},
   "outputs": [
    {
     "name": "stdout",
     "output_type": "stream",
     "text": [
      "<class 'str'>\n",
      "<class 'str'>\n"
     ]
    }
   ],
   "source": [
    "print(type(f\"rick\"))\n",
    "print(type(\"rick\"))"
   ]
  },
  {
   "cell_type": "markdown",
   "id": "13b239ec",
   "metadata": {},
   "source": [
    "# Object Methods\n",
    "## Objects can also contain methods. Methods in objects are functions that belong to the object.\n",
    "\n",
    "## Let us create a method in the Person class:"
   ]
  },
  {
   "cell_type": "code",
   "execution_count": 21,
   "id": "49abdfdd",
   "metadata": {},
   "outputs": [
    {
     "name": "stdout",
     "output_type": "stream",
     "text": [
      "Hello my name is John\n"
     ]
    }
   ],
   "source": [
    "#Insert a function that prints a greeting, and execute it on the p1 object:\n",
    "\n",
    "class Person:\n",
    "  def __init__(self, name, age):\n",
    "    self.name = name\n",
    "    self.age = age\n",
    "\n",
    "  def myfunc(self):\n",
    "    print(\"Hello my name is \" + self.name)\n",
    "\n",
    "p1 = Person(\"John\", 36)\n",
    "p1.myfunc()    #the object function or method\n",
    "#Note: The self parameter is a reference"
   ]
  },
  {
   "cell_type": "markdown",
   "id": "cf3f8b28",
   "metadata": {},
   "source": [
    "# The self Parameter\n",
    "- The self parameter is a reference to the current instance of the class, and is used to access variables that belongs to the class.\n",
    "\n",
    "+ It does not have to be named self , you can call it whatever you like, but it has to be the first parameter of any function in the class:"
   ]
  },
  {
   "cell_type": "code",
   "execution_count": 24,
   "id": "76610ee0",
   "metadata": {},
   "outputs": [
    {
     "name": "stdout",
     "output_type": "stream",
     "text": [
      "Hello my name is John\n"
     ]
    }
   ],
   "source": [
    "#Use the words mysillyobject and abc instead of self:\n",
    "\n",
    "class Person:\n",
    "  def __init__(mysillyobject, name, age):\n",
    "    mysillyobject.name = name\n",
    "    mysillyobject.age = age\n",
    "\n",
    "  def myfunc(abc):\n",
    "    print(\"Hello my name is \" + abc.name)\n",
    "\n",
    "p1 = Person(\"John\", 36)\n",
    "p1.myfunc()"
   ]
  },
  {
   "cell_type": "code",
   "execution_count": 25,
   "id": "bf028300",
   "metadata": {},
   "outputs": [
    {
     "name": "stdout",
     "output_type": "stream",
     "text": [
      "Hello my name is Krusah\n"
     ]
    }
   ],
   "source": [
    "#Modify Object Properties\n",
    "p1.name=\"Krusah\"\n",
    "p1.myfunc()"
   ]
  },
  {
   "cell_type": "markdown",
   "id": "1aeefd66",
   "metadata": {},
   "source": [
    "# The pass Statement\n",
    "## class definitions cannot be empty, but if you for some reason have a class definition with no content, put in the pass statement to avoid getting an error.\n"
   ]
  },
  {
   "cell_type": "code",
   "execution_count": null,
   "id": "c0ebe602",
   "metadata": {},
   "outputs": [],
   "source": [
    "class Person:\n",
    "  pass"
   ]
  },
  {
   "cell_type": "markdown",
   "id": "019896ee",
   "metadata": {},
   "source": [
    "# Python Inheritance\n",
    "## Inheritance allows us to define a class that inherits all the methods and properties from another class.\n",
    "\n",
    "## Parent class is the class being inherited from, also called base class.\n",
    "\n",
    "## Child class is the class that inherits from another class, also called derived class.\n",
    "\n"
   ]
  },
  {
   "cell_type": "markdown",
   "id": "5057d890",
   "metadata": {},
   "source": [
    "# Create a Parent Class\n",
    "## Any class can be a parent class, so the syntax is the same as creating any other class:"
   ]
  },
  {
   "cell_type": "code",
   "execution_count": 39,
   "id": "b2cb90fe",
   "metadata": {},
   "outputs": [
    {
     "ename": "TypeError",
     "evalue": "'str' object is not callable",
     "output_type": "error",
     "traceback": [
      "\u001b[1;31m---------------------------------------------------------------------------\u001b[0m",
      "\u001b[1;31mTypeError\u001b[0m                                 Traceback (most recent call last)",
      "Input \u001b[1;32mIn [39]\u001b[0m, in \u001b[0;36m<cell line: 14>\u001b[1;34m()\u001b[0m\n\u001b[0;32m     11\u001b[0m \u001b[38;5;66;03m#Use the Person class to create an object, and then execute the printname method:\u001b[39;00m\n\u001b[0;32m     13\u001b[0m x \u001b[38;5;241m=\u001b[39m Person(\u001b[38;5;124m\"\u001b[39m\u001b[38;5;124mJohn\u001b[39m\u001b[38;5;124m\"\u001b[39m, \u001b[38;5;124m\"\u001b[39m\u001b[38;5;124mDoe\u001b[39m\u001b[38;5;124m\"\u001b[39m)\n\u001b[1;32m---> 14\u001b[0m \u001b[43mx\u001b[49m\u001b[38;5;241;43m.\u001b[39;49m\u001b[43mfirstname\u001b[49m\u001b[43m(\u001b[49m\u001b[43m)\u001b[49m\n\u001b[0;32m     15\u001b[0m x\u001b[38;5;241m.\u001b[39mprintname()\n",
      "\u001b[1;31mTypeError\u001b[0m: 'str' object is not callable"
     ]
    }
   ],
   "source": [
    "#Create a class named Person, with firstname and lastname properties, and a printname method:\n",
    "\n",
    "class Person:\n",
    "  def __init__(self, fname, lname):\n",
    "    self.firstname = fname\n",
    "    self.lastname = lname\n",
    "\n",
    "  def printname(self):\n",
    "    print(self.firstname, self.lastname)\n",
    "\n",
    "#Use the Person class to create an object, and then execute the printname method:\n",
    "\n",
    "x = Person(\"John\", \"Doe\")\n",
    "x.printname()"
   ]
  },
  {
   "cell_type": "markdown",
   "id": "c8660361",
   "metadata": {},
   "source": [
    "# Create a Child Class\n",
    "## To create a class that inherits the functionality from another class, send the parent class as a parameter when creating the child class:"
   ]
  },
  {
   "cell_type": "code",
   "execution_count": 27,
   "id": "36a89ea7",
   "metadata": {},
   "outputs": [],
   "source": [
    "##Create a class named Student, which will inherit the properties and methods from the Person class:\n",
    "\n",
    "class Student(Person):\n",
    "  pass\n",
    "#Note: Use the pass keyword when you do not want to add any other properties or methods to the class."
   ]
  },
  {
   "cell_type": "code",
   "execution_count": 28,
   "id": "93e4f4b6",
   "metadata": {},
   "outputs": [
    {
     "name": "stdout",
     "output_type": "stream",
     "text": [
      "Mike Olsen\n"
     ]
    }
   ],
   "source": [
    "#Now the Student class has the same properties and methods as the Person class.\n",
    "\n",
    "#Use the Student class to create an object, and then execute the printname method:\n",
    "\n",
    "x = Student(\"Mike\", \"Olsen\")\n",
    "x.printname()"
   ]
  },
  {
   "cell_type": "markdown",
   "id": "a69036fb",
   "metadata": {},
   "source": [
    "# Add the __init__() Function\n",
    "## So far we have created a child class that inherits the properties and methods from its parent.\n",
    "\n",
    "## We want to add the __init__() function to the child class (instead of the pass keyword)."
   ]
  },
  {
   "cell_type": "code",
   "execution_count": 30,
   "id": "59af37ba",
   "metadata": {},
   "outputs": [],
   "source": [
    "#Add the __init__() function to the Student class:\n",
    "\n",
    "class Student(Person):\n",
    "  def __init__(self, fname, lname):\n",
    "    #add properties etc."
   ]
  },
  {
   "cell_type": "markdown",
   "id": "06e4c988",
   "metadata": {},
   "source": [
    "## When you add the __init__() function, the child class will no longer inherit the parent's __init__() function.\n",
    "\n",
    "## Note: The child's __init__() function overrides the inheritance of the parent's __init__() function.\n",
    "\n",
    "## To keep the inheritance of the parent's __init__() function, add a call to the parent's __init__() function:"
   ]
  },
  {
   "cell_type": "code",
   "execution_count": 90,
   "id": "ecfecd36",
   "metadata": {},
   "outputs": [],
   "source": [
    "class Student(Person):\n",
    "  def __init__(self,fname,lname,complexion):\n",
    "    Person.__init__(self, fname, lname)# from here it is not using student class it is directly going to person class\n",
    "  #Now we have successfully added the __init__() function, and kept the inheritance of the parent class, and we are ready\n",
    "   #to add functionality in the __init__() function.v\n",
    "    self.complexion=complexion\n",
    "  def newprint(self):\n",
    "    print(self.complexion)\n",
    "  def newprint1(self):\n",
    "    print(self.fname,self.complexion)\n",
    "  def newprint2(self):\n",
    "    print(self.printname,self.complexion) "
   ]
  },
  {
   "cell_type": "code",
   "execution_count": 87,
   "id": "ee8061df",
   "metadata": {},
   "outputs": [],
   "source": [
    "#defining object\n",
    "s1=Student(\"Jony\",\"Usher\",10)"
   ]
  },
  {
   "cell_type": "code",
   "execution_count": 80,
   "id": "36e90c80",
   "metadata": {},
   "outputs": [
    {
     "name": "stdout",
     "output_type": "stream",
     "text": [
      "Jony Usher\n"
     ]
    }
   ],
   "source": [
    "s1.printname()"
   ]
  },
  {
   "cell_type": "code",
   "execution_count": 81,
   "id": "262dc2e5",
   "metadata": {},
   "outputs": [
    {
     "name": "stdout",
     "output_type": "stream",
     "text": [
      "10\n"
     ]
    }
   ],
   "source": [
    "s1.newprint()"
   ]
  },
  {
   "cell_type": "code",
   "execution_count": 82,
   "id": "db0c3bcb",
   "metadata": {},
   "outputs": [
    {
     "ename": "AttributeError",
     "evalue": "'Student' object has no attribute 'fname'",
     "output_type": "error",
     "traceback": [
      "\u001b[1;31m---------------------------------------------------------------------------\u001b[0m",
      "\u001b[1;31mAttributeError\u001b[0m                            Traceback (most recent call last)",
      "Input \u001b[1;32mIn [82]\u001b[0m, in \u001b[0;36m<cell line: 1>\u001b[1;34m()\u001b[0m\n\u001b[1;32m----> 1\u001b[0m \u001b[43ms1\u001b[49m\u001b[38;5;241;43m.\u001b[39;49m\u001b[43mnewprint1\u001b[49m\u001b[43m(\u001b[49m\u001b[43m)\u001b[49m\n",
      "Input \u001b[1;32mIn [78]\u001b[0m, in \u001b[0;36mStudent.newprint1\u001b[1;34m(self)\u001b[0m\n\u001b[0;32m      7\u001b[0m \u001b[38;5;28;01mdef\u001b[39;00m \u001b[38;5;21mnewprint1\u001b[39m(\u001b[38;5;28mself\u001b[39m):\n\u001b[1;32m----> 8\u001b[0m   \u001b[38;5;28mprint\u001b[39m(\u001b[38;5;28;43mself\u001b[39;49m\u001b[38;5;241;43m.\u001b[39;49m\u001b[43mfname\u001b[49m,\u001b[38;5;28mself\u001b[39m\u001b[38;5;241m.\u001b[39mcomplexion)\n",
      "\u001b[1;31mAttributeError\u001b[0m: 'Student' object has no attribute 'fname'"
     ]
    }
   ],
   "source": [
    "s1.newprint1() #👌👌👌👌👌👌👌👌"
   ]
  },
  {
   "cell_type": "code",
   "execution_count": 88,
   "id": "ea89ebfb",
   "metadata": {},
   "outputs": [
    {
     "name": "stdout",
     "output_type": "stream",
     "text": [
      "<bound method Person.printname of <__main__.Student object at 0x0000020D6F743EE0>> 10\n",
      "None\n"
     ]
    }
   ],
   "source": [
    "print(s1.newprint2() )"
   ]
  },
  {
   "cell_type": "markdown",
   "id": "a05d2a70",
   "metadata": {},
   "source": [
    "# Use the super() Function\n",
    "- Python also has a super() function that will make the child class inherit all the methods and properties from its parent:"
   ]
  },
  {
   "cell_type": "code",
   "execution_count": 95,
   "id": "60e90b18",
   "metadata": {},
   "outputs": [],
   "source": [
    "class Student1(Person):\n",
    "  def __init__(self, fname, lname):\n",
    "    super().__init__(fname, lname)#notice that no need to self parameter in the init function"
   ]
  },
  {
   "cell_type": "code",
   "execution_count": 96,
   "id": "fd27d600",
   "metadata": {},
   "outputs": [],
   "source": [
    "s2=Student1(\"Krish\",\"Naik\")"
   ]
  },
  {
   "cell_type": "code",
   "execution_count": 98,
   "id": "fca5c0df",
   "metadata": {},
   "outputs": [
    {
     "name": "stdout",
     "output_type": "stream",
     "text": [
      "Krish Naik\n"
     ]
    }
   ],
   "source": [
    "s2.printname()"
   ]
  },
  {
   "cell_type": "markdown",
   "id": "ff8bbe26",
   "metadata": {},
   "source": [
    "### By using the super() function, you do not have to use the name of the parent element, it will automatically inherit the methods and properties from its parent."
   ]
  },
  {
   "cell_type": "markdown",
   "id": "f02a4ca5",
   "metadata": {},
   "source": [
    "# Adding properties"
   ]
  },
  {
   "cell_type": "code",
   "execution_count": 102,
   "id": "3bbc37ee",
   "metadata": {},
   "outputs": [],
   "source": [
    "#Add a property called graduationyear to the Student class:\n",
    "class Student(Person):\n",
    "  def __init__(self, fname, lname):\n",
    "    super().__init__(fname, lname)\n",
    "    self.graduationyear = 2019"
   ]
  },
  {
   "cell_type": "markdown",
   "id": "709290ad",
   "metadata": {},
   "source": [
    "### In the example below, the year 2019 should be a variable, and passed into the Student class when creating student objects. To do so, add another parameter in the __init__() function:"
   ]
  },
  {
   "cell_type": "code",
   "execution_count": 103,
   "id": "e6891772",
   "metadata": {},
   "outputs": [],
   "source": [
    "#Add a year parameter, and pass the correct year when creating objects:\n",
    "\n",
    "class Student(Person):\n",
    "  def __init__(self, fname, lname, year):\n",
    "    super().__init__(fname, lname)\n",
    "    self.graduationyear = year\n",
    "\n",
    "x = Student(\"Mike\", \"Olsen\", 2019)\n"
   ]
  },
  {
   "cell_type": "code",
   "execution_count": 104,
   "id": "5cf23c56",
   "metadata": {},
   "outputs": [
    {
     "name": "stdout",
     "output_type": "stream",
     "text": [
      "Mike Olsen\n"
     ]
    }
   ],
   "source": [
    "x.printname()"
   ]
  },
  {
   "cell_type": "code",
   "execution_count": 106,
   "id": "f4a8fb4b",
   "metadata": {},
   "outputs": [
    {
     "name": "stdout",
     "output_type": "stream",
     "text": [
      "2019\n"
     ]
    }
   ],
   "source": [
    "class Person:\n",
    "  def __init__(self, fname, lname):\n",
    "    self.firstname = fname\n",
    "    self.lastname = lname\n",
    "\n",
    "  def printname(self):\n",
    "    print(self.firstname, self.lastname)\n",
    "\n",
    "class Student(Person):\n",
    "  def __init__(self, fname, lname, year):\n",
    "    super().__init__(fname, lname)\n",
    "    self.graduationyear = year\n",
    "\n",
    "x = Student(\"Mike\", \"Olsen\", 2019)\n",
    "print(x.graduationyear)\n"
   ]
  },
  {
   "cell_type": "markdown",
   "id": "9d4b3a1e",
   "metadata": {},
   "source": [
    "# Add Methods"
   ]
  },
  {
   "cell_type": "code",
   "execution_count": 108,
   "id": "39fa001c",
   "metadata": {},
   "outputs": [],
   "source": [
    "#Add a method called welcome to the Student class:\n",
    "\n",
    "class Student(Person):\n",
    "  def __init__(self, fname, lname, year):\n",
    "    super().__init__(fname, lname)\n",
    "    self.graduationyear = year\n",
    "\n",
    "  def welcome(self):\n",
    "    print(\"Welcome\", self.firstname, self.lastname, \"to the class of\", self.graduationyear)\n"
   ]
  },
  {
   "cell_type": "code",
   "execution_count": 109,
   "id": "f77b549a",
   "metadata": {},
   "outputs": [
    {
     "name": "stdout",
     "output_type": "stream",
     "text": [
      "Welcome Mike Olsen to the class of 2019\n"
     ]
    }
   ],
   "source": [
    "x = Student(\"Mike\", \"Olsen\", 2019)\n",
    "x.welcome()"
   ]
  },
  {
   "cell_type": "code",
   "execution_count": null,
   "id": "9d90dcf0",
   "metadata": {},
   "outputs": [],
   "source": []
  },
  {
   "cell_type": "code",
   "execution_count": null,
   "id": "b98baabe",
   "metadata": {},
   "outputs": [],
   "source": []
  },
  {
   "cell_type": "code",
   "execution_count": null,
   "id": "027d74a6",
   "metadata": {},
   "outputs": [],
   "source": []
  },
  {
   "cell_type": "code",
   "execution_count": null,
   "id": "6a23241b",
   "metadata": {},
   "outputs": [],
   "source": []
  },
  {
   "cell_type": "code",
   "execution_count": null,
   "id": "2c0e16b5",
   "metadata": {},
   "outputs": [],
   "source": []
  },
  {
   "cell_type": "code",
   "execution_count": null,
   "id": "945c9d66",
   "metadata": {},
   "outputs": [],
   "source": []
  },
  {
   "cell_type": "code",
   "execution_count": null,
   "id": "8f3c62f1",
   "metadata": {},
   "outputs": [],
   "source": []
  },
  {
   "cell_type": "code",
   "execution_count": null,
   "id": "e41d0a9d",
   "metadata": {},
   "outputs": [],
   "source": []
  },
  {
   "cell_type": "code",
   "execution_count": null,
   "id": "46decb58",
   "metadata": {},
   "outputs": [],
   "source": []
  },
  {
   "cell_type": "code",
   "execution_count": null,
   "id": "a01ea78d",
   "metadata": {},
   "outputs": [],
   "source": []
  },
  {
   "cell_type": "code",
   "execution_count": null,
   "id": "33ed6510",
   "metadata": {},
   "outputs": [],
   "source": []
  },
  {
   "cell_type": "code",
   "execution_count": null,
   "id": "5e488a17",
   "metadata": {},
   "outputs": [],
   "source": []
  },
  {
   "cell_type": "code",
   "execution_count": null,
   "id": "38c5ff57",
   "metadata": {},
   "outputs": [],
   "source": []
  },
  {
   "cell_type": "code",
   "execution_count": null,
   "id": "c6fd4977",
   "metadata": {},
   "outputs": [],
   "source": []
  }
 ],
 "metadata": {
  "kernelspec": {
   "display_name": "Python 3 (ipykernel)",
   "language": "python",
   "name": "python3"
  },
  "language_info": {
   "codemirror_mode": {
    "name": "ipython",
    "version": 3
   },
   "file_extension": ".py",
   "mimetype": "text/x-python",
   "name": "python",
   "nbconvert_exporter": "python",
   "pygments_lexer": "ipython3",
   "version": "3.9.12"
  }
 },
 "nbformat": 4,
 "nbformat_minor": 5
}
